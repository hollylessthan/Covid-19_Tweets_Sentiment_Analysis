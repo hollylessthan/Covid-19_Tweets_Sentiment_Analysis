{
 "cells": [
  {
   "cell_type": "markdown",
   "id": "subtle-freeze",
   "metadata": {},
   "source": [
    "# Covid19 Tweets Sentiment Prediction\n",
    "### Group Member: Fangyu Lo, Qing Gong"
   ]
  },
  {
   "cell_type": "markdown",
   "id": "standard-dependence",
   "metadata": {},
   "source": [
    "### 1. Load data and packages"
   ]
  },
  {
   "cell_type": "code",
   "execution_count": 1,
   "id": "automatic-cornwall",
   "metadata": {},
   "outputs": [],
   "source": [
    "# Load Packages\n",
    "import pandas as pd\n",
    "import numpy as np\n",
    "import pickle\n",
    "import itertools\n",
    "import matplotlib as mpl\n",
    "import os\n",
    "import string\n",
    "import matplotlib.pyplot as plt\n",
    "%matplotlib inline\n",
    "import seaborn as sns\n",
    "plt.style.use('ggplot')\n",
    "import re\n",
    "\n",
    "from collections import Counter\n",
    "import nltk\n",
    "from nltk.stem.porter import PorterStemmer\n",
    "from nltk.tokenize import TweetTokenizer\n",
    "from nltk import word_tokenize\n",
    "from nltk.corpus import stopwords\n",
    "from gensim.models import Word2Vec \n",
    "from sklearn.linear_model import LogisticRegression\n",
    "from sklearn.model_selection import train_test_split\n",
    "from sklearn.metrics import confusion_matrix\n",
    "from sklearn.metrics import classification_report\n",
    "\n",
    "mpl.rcParams[\"figure.dpi\"] = 100\n",
    "import warnings\n",
    "warnings.filterwarnings('ignore')"
   ]
  },
  {
   "cell_type": "code",
   "execution_count": 2,
   "id": "composite-analysis",
   "metadata": {},
   "outputs": [],
   "source": [
    "df_train = pd.read_csv(\"Corona_NLP_train.csv\")\n",
    "df_test = pd.read_csv(\"Corona_NLP_test.csv\")"
   ]
  },
  {
   "cell_type": "code",
   "execution_count": 3,
   "id": "affiliated-novel",
   "metadata": {},
   "outputs": [],
   "source": [
    "df_train['OriginalTweet'] = df_train['OriginalTweet'].astype(str)\n",
    "df_train['Sentiment'] = df_train['Sentiment'].astype(str)\n",
    "\n",
    "df_test['OriginalTweet'] = df_test['OriginalTweet'].astype(str)\n",
    "df_test['Sentiment'] = df_test['Sentiment'].astype(str)"
   ]
  },
  {
   "cell_type": "code",
   "execution_count": 4,
   "id": "infectious-animation",
   "metadata": {},
   "outputs": [],
   "source": [
    "df = pd.concat([df_train,df_test])"
   ]
  },
  {
   "cell_type": "code",
   "execution_count": 5,
   "id": "lesbian-state",
   "metadata": {},
   "outputs": [],
   "source": [
    "train = df_train[['OriginalTweet']]\n",
    "test = df_test[['OriginalTweet']]"
   ]
  },
  {
   "cell_type": "code",
   "execution_count": 6,
   "id": "extensive-shelter",
   "metadata": {},
   "outputs": [
    {
     "data": {
      "text/html": [
       "<div>\n",
       "<style scoped>\n",
       "    .dataframe tbody tr th:only-of-type {\n",
       "        vertical-align: middle;\n",
       "    }\n",
       "\n",
       "    .dataframe tbody tr th {\n",
       "        vertical-align: top;\n",
       "    }\n",
       "\n",
       "    .dataframe thead th {\n",
       "        text-align: right;\n",
       "    }\n",
       "</style>\n",
       "<table border=\"1\" class=\"dataframe\">\n",
       "  <thead>\n",
       "    <tr style=\"text-align: right;\">\n",
       "      <th></th>\n",
       "      <th>UserName</th>\n",
       "      <th>ScreenName</th>\n",
       "      <th>Location</th>\n",
       "      <th>TweetAt</th>\n",
       "      <th>OriginalTweet</th>\n",
       "      <th>Sentiment</th>\n",
       "    </tr>\n",
       "  </thead>\n",
       "  <tbody>\n",
       "    <tr>\n",
       "      <th>0</th>\n",
       "      <td>3799</td>\n",
       "      <td>48751</td>\n",
       "      <td>London</td>\n",
       "      <td>16-03-2020</td>\n",
       "      <td>@MeNyrbie @Phil_Gahan @Chrisitv https://t.co/i...</td>\n",
       "      <td>Neutral</td>\n",
       "    </tr>\n",
       "    <tr>\n",
       "      <th>1</th>\n",
       "      <td>3800</td>\n",
       "      <td>48752</td>\n",
       "      <td>UK</td>\n",
       "      <td>16-03-2020</td>\n",
       "      <td>advice Talk to your neighbours family to excha...</td>\n",
       "      <td>Positive</td>\n",
       "    </tr>\n",
       "    <tr>\n",
       "      <th>2</th>\n",
       "      <td>3801</td>\n",
       "      <td>48753</td>\n",
       "      <td>Vagabonds</td>\n",
       "      <td>16-03-2020</td>\n",
       "      <td>Coronavirus Australia: Woolworths to give elde...</td>\n",
       "      <td>Positive</td>\n",
       "    </tr>\n",
       "    <tr>\n",
       "      <th>3</th>\n",
       "      <td>3802</td>\n",
       "      <td>48754</td>\n",
       "      <td>NaN</td>\n",
       "      <td>16-03-2020</td>\n",
       "      <td>My food stock is not the only one which is emp...</td>\n",
       "      <td>Positive</td>\n",
       "    </tr>\n",
       "    <tr>\n",
       "      <th>4</th>\n",
       "      <td>3803</td>\n",
       "      <td>48755</td>\n",
       "      <td>NaN</td>\n",
       "      <td>16-03-2020</td>\n",
       "      <td>Me, ready to go at supermarket during the #COV...</td>\n",
       "      <td>Extremely Negative</td>\n",
       "    </tr>\n",
       "  </tbody>\n",
       "</table>\n",
       "</div>"
      ],
      "text/plain": [
       "   UserName  ScreenName   Location     TweetAt  \\\n",
       "0      3799       48751     London  16-03-2020   \n",
       "1      3800       48752         UK  16-03-2020   \n",
       "2      3801       48753  Vagabonds  16-03-2020   \n",
       "3      3802       48754        NaN  16-03-2020   \n",
       "4      3803       48755        NaN  16-03-2020   \n",
       "\n",
       "                                       OriginalTweet           Sentiment  \n",
       "0  @MeNyrbie @Phil_Gahan @Chrisitv https://t.co/i...             Neutral  \n",
       "1  advice Talk to your neighbours family to excha...            Positive  \n",
       "2  Coronavirus Australia: Woolworths to give elde...            Positive  \n",
       "3  My food stock is not the only one which is emp...            Positive  \n",
       "4  Me, ready to go at supermarket during the #COV...  Extremely Negative  "
      ]
     },
     "execution_count": 6,
     "metadata": {},
     "output_type": "execute_result"
    }
   ],
   "source": [
    "df_train.head()"
   ]
  },
  {
   "cell_type": "code",
   "execution_count": 7,
   "id": "egyptian-flavor",
   "metadata": {},
   "outputs": [
    {
     "data": {
      "text/html": [
       "<div>\n",
       "<style scoped>\n",
       "    .dataframe tbody tr th:only-of-type {\n",
       "        vertical-align: middle;\n",
       "    }\n",
       "\n",
       "    .dataframe tbody tr th {\n",
       "        vertical-align: top;\n",
       "    }\n",
       "\n",
       "    .dataframe thead th {\n",
       "        text-align: right;\n",
       "    }\n",
       "</style>\n",
       "<table border=\"1\" class=\"dataframe\">\n",
       "  <thead>\n",
       "    <tr style=\"text-align: right;\">\n",
       "      <th></th>\n",
       "      <th>UserName</th>\n",
       "      <th>ScreenName</th>\n",
       "      <th>Location</th>\n",
       "      <th>TweetAt</th>\n",
       "      <th>OriginalTweet</th>\n",
       "      <th>Sentiment</th>\n",
       "    </tr>\n",
       "  </thead>\n",
       "  <tbody>\n",
       "    <tr>\n",
       "      <th>0</th>\n",
       "      <td>1</td>\n",
       "      <td>44953</td>\n",
       "      <td>NYC</td>\n",
       "      <td>02-03-2020</td>\n",
       "      <td>TRENDING: New Yorkers encounter empty supermar...</td>\n",
       "      <td>Extremely Negative</td>\n",
       "    </tr>\n",
       "    <tr>\n",
       "      <th>1</th>\n",
       "      <td>2</td>\n",
       "      <td>44954</td>\n",
       "      <td>Seattle, WA</td>\n",
       "      <td>02-03-2020</td>\n",
       "      <td>When I couldn't find hand sanitizer at Fred Me...</td>\n",
       "      <td>Positive</td>\n",
       "    </tr>\n",
       "    <tr>\n",
       "      <th>2</th>\n",
       "      <td>3</td>\n",
       "      <td>44955</td>\n",
       "      <td>NaN</td>\n",
       "      <td>02-03-2020</td>\n",
       "      <td>Find out how you can protect yourself and love...</td>\n",
       "      <td>Extremely Positive</td>\n",
       "    </tr>\n",
       "    <tr>\n",
       "      <th>3</th>\n",
       "      <td>4</td>\n",
       "      <td>44956</td>\n",
       "      <td>Chicagoland</td>\n",
       "      <td>02-03-2020</td>\n",
       "      <td>#Panic buying hits #NewYork City as anxious sh...</td>\n",
       "      <td>Negative</td>\n",
       "    </tr>\n",
       "    <tr>\n",
       "      <th>4</th>\n",
       "      <td>5</td>\n",
       "      <td>44957</td>\n",
       "      <td>Melbourne, Victoria</td>\n",
       "      <td>03-03-2020</td>\n",
       "      <td>#toiletpaper #dunnypaper #coronavirus #coronav...</td>\n",
       "      <td>Neutral</td>\n",
       "    </tr>\n",
       "  </tbody>\n",
       "</table>\n",
       "</div>"
      ],
      "text/plain": [
       "   UserName  ScreenName             Location     TweetAt  \\\n",
       "0         1       44953                  NYC  02-03-2020   \n",
       "1         2       44954          Seattle, WA  02-03-2020   \n",
       "2         3       44955                  NaN  02-03-2020   \n",
       "3         4       44956          Chicagoland  02-03-2020   \n",
       "4         5       44957  Melbourne, Victoria  03-03-2020   \n",
       "\n",
       "                                       OriginalTweet           Sentiment  \n",
       "0  TRENDING: New Yorkers encounter empty supermar...  Extremely Negative  \n",
       "1  When I couldn't find hand sanitizer at Fred Me...            Positive  \n",
       "2  Find out how you can protect yourself and love...  Extremely Positive  \n",
       "3  #Panic buying hits #NewYork City as anxious sh...            Negative  \n",
       "4  #toiletpaper #dunnypaper #coronavirus #coronav...             Neutral  "
      ]
     },
     "execution_count": 7,
     "metadata": {},
     "output_type": "execute_result"
    }
   ],
   "source": [
    "df_test.head()"
   ]
  },
  {
   "cell_type": "markdown",
   "id": "immune-roads",
   "metadata": {},
   "source": [
    "### 2. Exploratory Data Analysis & Data Visualization"
   ]
  },
  {
   "cell_type": "code",
   "execution_count": 8,
   "id": "earlier-divorce",
   "metadata": {},
   "outputs": [
    {
     "name": "stdout",
     "output_type": "stream",
     "text": [
      "Training Set Shape = (41157, 6)\n",
      "Test Set Shape = (3798, 6)\n",
      "\n",
      "\n",
      "<class 'pandas.core.frame.DataFrame'>\n",
      "RangeIndex: 41157 entries, 0 to 41156\n",
      "Data columns (total 6 columns):\n",
      " #   Column         Non-Null Count  Dtype \n",
      "---  ------         --------------  ----- \n",
      " 0   UserName       41157 non-null  int64 \n",
      " 1   ScreenName     41157 non-null  int64 \n",
      " 2   Location       32567 non-null  object\n",
      " 3   TweetAt        41157 non-null  object\n",
      " 4   OriginalTweet  41157 non-null  object\n",
      " 5   Sentiment      41157 non-null  object\n",
      "dtypes: int64(2), object(4)\n",
      "memory usage: 1.9+ MB\n",
      "None\n"
     ]
    }
   ],
   "source": [
    "# check data info\n",
    "print('Training Set Shape = {}'.format(df_train.shape))\n",
    "print('Test Set Shape = {}'.format(df_test.shape))\n",
    "print(\"\\n\")\n",
    "print(df_train.info())"
   ]
  },
  {
   "cell_type": "code",
   "execution_count": 9,
   "id": "split-rally",
   "metadata": {},
   "outputs": [
    {
     "data": {
      "text/html": [
       "<div>\n",
       "<style scoped>\n",
       "    .dataframe tbody tr th:only-of-type {\n",
       "        vertical-align: middle;\n",
       "    }\n",
       "\n",
       "    .dataframe tbody tr th {\n",
       "        vertical-align: top;\n",
       "    }\n",
       "\n",
       "    .dataframe thead th {\n",
       "        text-align: right;\n",
       "    }\n",
       "</style>\n",
       "<table border=\"1\" class=\"dataframe\">\n",
       "  <thead>\n",
       "    <tr style=\"text-align: right;\">\n",
       "      <th></th>\n",
       "      <th>UserName</th>\n",
       "      <th>ScreenName</th>\n",
       "      <th>Location</th>\n",
       "      <th>TweetAt</th>\n",
       "      <th>OriginalTweet</th>\n",
       "    </tr>\n",
       "    <tr>\n",
       "      <th>Sentiment</th>\n",
       "      <th></th>\n",
       "      <th></th>\n",
       "      <th></th>\n",
       "      <th></th>\n",
       "      <th></th>\n",
       "    </tr>\n",
       "  </thead>\n",
       "  <tbody>\n",
       "    <tr>\n",
       "      <th>Extremely Negative</th>\n",
       "      <td>6073</td>\n",
       "      <td>6073</td>\n",
       "      <td>4698</td>\n",
       "      <td>6073</td>\n",
       "      <td>6073</td>\n",
       "    </tr>\n",
       "    <tr>\n",
       "      <th>Extremely Positive</th>\n",
       "      <td>7223</td>\n",
       "      <td>7223</td>\n",
       "      <td>5755</td>\n",
       "      <td>7223</td>\n",
       "      <td>7223</td>\n",
       "    </tr>\n",
       "    <tr>\n",
       "      <th>Negative</th>\n",
       "      <td>10958</td>\n",
       "      <td>10958</td>\n",
       "      <td>8574</td>\n",
       "      <td>10958</td>\n",
       "      <td>10958</td>\n",
       "    </tr>\n",
       "    <tr>\n",
       "      <th>Neutral</th>\n",
       "      <td>8332</td>\n",
       "      <td>8332</td>\n",
       "      <td>6669</td>\n",
       "      <td>8332</td>\n",
       "      <td>8332</td>\n",
       "    </tr>\n",
       "    <tr>\n",
       "      <th>Positive</th>\n",
       "      <td>12369</td>\n",
       "      <td>12369</td>\n",
       "      <td>9835</td>\n",
       "      <td>12369</td>\n",
       "      <td>12369</td>\n",
       "    </tr>\n",
       "  </tbody>\n",
       "</table>\n",
       "</div>"
      ],
      "text/plain": [
       "                    UserName  ScreenName  Location  TweetAt  OriginalTweet\n",
       "Sentiment                                                                 \n",
       "Extremely Negative      6073        6073      4698     6073           6073\n",
       "Extremely Positive      7223        7223      5755     7223           7223\n",
       "Negative               10958       10958      8574    10958          10958\n",
       "Neutral                 8332        8332      6669     8332           8332\n",
       "Positive               12369       12369      9835    12369          12369"
      ]
     },
     "execution_count": 9,
     "metadata": {},
     "output_type": "execute_result"
    }
   ],
   "source": [
    "# check sentiment distribution\n",
    "df.groupby('Sentiment').count()"
   ]
  },
  {
   "cell_type": "code",
   "execution_count": 10,
   "id": "divided-editing",
   "metadata": {},
   "outputs": [
    {
     "data": {
      "text/html": [
       "<style  type=\"text/css\" >\n",
       "#T_eda66_row0_col1{\n",
       "            background-color:  #ffff00;\n",
       "            color:  #000000;\n",
       "        }#T_eda66_row1_col1{\n",
       "            background-color:  #ffc600;\n",
       "            color:  #000000;\n",
       "        }#T_eda66_row2_col1{\n",
       "            background-color:  #ff5b00;\n",
       "            color:  #000000;\n",
       "        }#T_eda66_row3_col1{\n",
       "            background-color:  #ff2e00;\n",
       "            color:  #f1f1f1;\n",
       "        }#T_eda66_row4_col1{\n",
       "            background-color:  #ff0000;\n",
       "            color:  #f1f1f1;\n",
       "        }</style><table id=\"T_eda66_\" ><thead>    <tr>        <th class=\"blank level0\" ></th>        <th class=\"col_heading level0 col0\" >Sentiment</th>        <th class=\"col_heading level0 col1\" >OriginalTweet</th>    </tr></thead><tbody>\n",
       "                <tr>\n",
       "                        <th id=\"T_eda66_level0_row0\" class=\"row_heading level0 row0\" >4</th>\n",
       "                        <td id=\"T_eda66_row0_col0\" class=\"data row0 col0\" >Positive</td>\n",
       "                        <td id=\"T_eda66_row0_col1\" class=\"data row0 col1\" >12369</td>\n",
       "            </tr>\n",
       "            <tr>\n",
       "                        <th id=\"T_eda66_level0_row1\" class=\"row_heading level0 row1\" >2</th>\n",
       "                        <td id=\"T_eda66_row1_col0\" class=\"data row1 col0\" >Negative</td>\n",
       "                        <td id=\"T_eda66_row1_col1\" class=\"data row1 col1\" >10958</td>\n",
       "            </tr>\n",
       "            <tr>\n",
       "                        <th id=\"T_eda66_level0_row2\" class=\"row_heading level0 row2\" >3</th>\n",
       "                        <td id=\"T_eda66_row2_col0\" class=\"data row2 col0\" >Neutral</td>\n",
       "                        <td id=\"T_eda66_row2_col1\" class=\"data row2 col1\" >8332</td>\n",
       "            </tr>\n",
       "            <tr>\n",
       "                        <th id=\"T_eda66_level0_row3\" class=\"row_heading level0 row3\" >1</th>\n",
       "                        <td id=\"T_eda66_row3_col0\" class=\"data row3 col0\" >Extremely Positive</td>\n",
       "                        <td id=\"T_eda66_row3_col1\" class=\"data row3 col1\" >7223</td>\n",
       "            </tr>\n",
       "            <tr>\n",
       "                        <th id=\"T_eda66_level0_row4\" class=\"row_heading level0 row4\" >0</th>\n",
       "                        <td id=\"T_eda66_row4_col0\" class=\"data row4 col0\" >Extremely Negative</td>\n",
       "                        <td id=\"T_eda66_row4_col1\" class=\"data row4 col1\" >6073</td>\n",
       "            </tr>\n",
       "    </tbody></table>"
      ],
      "text/plain": [
       "<pandas.io.formats.style.Styler at 0x7fc59116eeb0>"
      ]
     },
     "execution_count": 10,
     "metadata": {},
     "output_type": "execute_result"
    }
   ],
   "source": [
    "class_df = df.groupby('Sentiment').count()['OriginalTweet'].reset_index().sort_values(by='OriginalTweet',ascending=False)\n",
    "class_df.style.background_gradient(cmap='autumn')"
   ]
  },
  {
   "cell_type": "code",
   "execution_count": 11,
   "id": "complete-compact",
   "metadata": {},
   "outputs": [
    {
     "data": {
      "image/png": "[encoded data removed]",
      "text/plain": [
       "<Figure size 600x400 with 1 Axes>"
      ]
     },
     "metadata": {},
     "output_type": "display_data"
    }
   ],
   "source": [
    "percent_class=class_df.OriginalTweet\n",
    "labels= class_df.Sentiment\n",
    "colors = ['#17C37B','#F92969','#FACA0C']\n",
    "my_pie,_,_ = plt.pie(percent_class,radius = 1.2,labels=labels,colors=colors,autopct=\"%.1f%%\")\n",
    "plt.setp(my_pie, width=0.6, edgecolor='white') \n",
    "plt.show()"
   ]
  },
  {
   "cell_type": "markdown",
   "id": "illegal-tonight",
   "metadata": {},
   "source": [
    "We can see that classes are unevenly distributed.\n",
    "The largest of the pie is composed with positive, followed by negatives."
   ]
  },
  {
   "cell_type": "code",
   "execution_count": 12,
   "id": "colored-witch",
   "metadata": {},
   "outputs": [
    {
     "data": {
      "text/plain": [
       "(array([0, 1, 2, 3, 4]),\n",
       " [Text(0, 0, 'Extremely Negative'),\n",
       "  Text(1, 0, 'Extremely Positive'),\n",
       "  Text(2, 0, 'Negative'),\n",
       "  Text(3, 0, 'Neutral'),\n",
       "  Text(4, 0, 'Positive')])"
      ]
     },
     "execution_count": 12,
     "metadata": {},
     "output_type": "execute_result"
    },
    {
     "data": {
      "image/png": "[encoded data removed]",
      "text/plain": [
       "<Figure size 600x400 with 1 Axes>"
      ]
     },
     "metadata": {},
     "output_type": "display_data"
    }
   ],
   "source": [
    "class_df = df_train.groupby('Sentiment').count()['OriginalTweet'].reset_index()\n",
    "sns.barplot(data = class_df, x = 'Sentiment', y = 'OriginalTweet')\n",
    "plt.xticks(rotation=30)"
   ]
  },
  {
   "cell_type": "code",
   "execution_count": 13,
   "id": "cross-employee",
   "metadata": {},
   "outputs": [
    {
     "data": {
      "text/plain": [
       "(array([0, 1, 2, 3, 4]),\n",
       " [Text(0, 0, 'Extremely Negative'),\n",
       "  Text(1, 0, 'Extremely Positive'),\n",
       "  Text(2, 0, 'Negative'),\n",
       "  Text(3, 0, 'Neutral'),\n",
       "  Text(4, 0, 'Positive')])"
      ]
     },
     "execution_count": 13,
     "metadata": {},
     "output_type": "execute_result"
    },
    {
     "data": {
      "image/png": "[encoded data removed]",
      "text/plain": [
       "<Figure size 600x400 with 1 Axes>"
      ]
     },
     "metadata": {},
     "output_type": "display_data"
    }
   ],
   "source": [
    "class_df = df_test.groupby('Sentiment').count()['OriginalTweet'].reset_index()\n",
    "sns.barplot(data = class_df, x = 'Sentiment', y = 'OriginalTweet')\n",
    "plt.xticks(rotation=30)"
   ]
  },
  {
   "cell_type": "markdown",
   "id": "communist-tourism",
   "metadata": {},
   "source": [
    "We can see that test set has a higher proportion of negative tweets, comparing to train set."
   ]
  },
  {
   "cell_type": "code",
   "execution_count": 14,
   "id": "oriental-processor",
   "metadata": {},
   "outputs": [
    {
     "data": {
      "image/png": "[encoded data removed]",
      "text/plain": [
       "<Figure size 1500x500 with 3 Axes>"
      ]
     },
     "metadata": {},
     "output_type": "display_data"
    }
   ],
   "source": [
    "# check average wrods\n",
    "fig,(ax1,ax2,ax3)=plt.subplots(1,3,figsize=(15,5))\n",
    "\n",
    "tweet_len=df_train[df_train['Sentiment']==\"Positive\"]['OriginalTweet'].str.split().map(lambda x: len(x))\n",
    "ax1.hist(tweet_len)\n",
    "ax1.set_title('Positive Sentiments')\n",
    "\n",
    "\n",
    "tweet_len=df_train[df_train['Sentiment']==\"Negative\"]['OriginalTweet'].str.split().map(lambda x: len(x))\n",
    "ax2.hist(tweet_len)\n",
    "ax2.set_title('Negative Sentiments')\n",
    "\n",
    "tweet_len=df_train[df_train['Sentiment']==\"Neutral\"]['OriginalTweet'].str.split().map(lambda x: len(x))\n",
    "ax3.hist(tweet_len)\n",
    "ax3.set_title('Neutral Sentiments')\n",
    "\n",
    "fig.suptitle('Average Words Count in One Tweet')\n",
    "plt.show()"
   ]
  },
  {
   "cell_type": "markdown",
   "id": "desirable-addiction",
   "metadata": {},
   "source": [
    "### 3. Pre-Process"
   ]
  },
  {
   "cell_type": "code",
   "execution_count": 20,
   "id": "classical-simulation",
   "metadata": {},
   "outputs": [],
   "source": [
    "# preprocess data\n",
    "def preprocess_df(df):\n",
    "    # get English stopwords\n",
    "    stop_words = set(stopwords.words('english'))\n",
    "    stop_words.add('would')\n",
    "    # prepare translation table to translate punctuation to space\n",
    "    translator = str.maketrans(string.punctuation, ' ' * len(string.punctuation))\n",
    "    preprocessed_sentences = []\n",
    "    for i, row in df.iterrows():\n",
    "        sent = row[\"OriginalTweet\"]\n",
    "        sent_nopuncts = sent.translate(translator)\n",
    "        words_list = sent_nopuncts.strip().split()\n",
    "        filtered_words = [word for word in words_list if word not in stop_words and len(word) != 1] # also skip space from above translation\n",
    "        stemmer = PorterStemmer()\n",
    "        filtered_words = [stemmer.stem(w) for w in filtered_words]\n",
    "        preprocessed_sentences.append(\" \".join(filtered_words))\n",
    "    df[\"OriginalTweet\"] = preprocessed_sentences\n",
    "    return df\n"
   ]
  },
  {
   "cell_type": "code",
   "execution_count": 21,
   "id": "fancy-expense",
   "metadata": {},
   "outputs": [],
   "source": [
    "def data_cleaner(tweet):\n",
    "    \n",
    "    # remove urls\n",
    "    tweet = re.sub(r'http\\S+', ' ', tweet)\n",
    "    \n",
    "    # remove html tags\n",
    "    tweet = re.sub(r'<.*?>',' ', tweet)\n",
    "    \n",
    "    # remove digits\n",
    "    tweet = re.sub(r'\\d+',' ', tweet)\n",
    "    \n",
    "    # remove hashtags\n",
    "    tweet = re.sub(r'#\\w+',' ', tweet)\n",
    "    \n",
    "    # remove mentions\n",
    "    tweet = re.sub(r'@\\w+',' ', tweet)\n",
    "    \n",
    "    #removing stop words\n",
    "    tweet = tweet.split()\n",
    "    tweet = \" \".join([word for word in tweet if not word in stop_words])\n",
    "    \n",
    "    return tweet\n",
    "\n",
    "\n",
    "stop_words = stopwords.words('english')"
   ]
  },
  {
   "cell_type": "code",
   "execution_count": 22,
   "id": "substantial-ceremony",
   "metadata": {},
   "outputs": [],
   "source": [
    "train_pre = train['OriginalTweet']\n",
    "test_pre = test['OriginalTweet']\n",
    "train_pre = train_pre.apply(data_cleaner)\n",
    "test_pre = test_pre.apply(data_cleaner)\n"
   ]
  },
  {
   "cell_type": "code",
   "execution_count": 23,
   "id": "express-prevention",
   "metadata": {},
   "outputs": [],
   "source": [
    "clean_train = train.copy()\n",
    "clean_test = test.copy()\n",
    "\n",
    "clean_train.OriginalTweet = train_pre\n",
    "clean_test.OriginalTweet = test_pre"
   ]
  },
  {
   "cell_type": "code",
   "execution_count": 26,
   "id": "virtual-kuwait",
   "metadata": {},
   "outputs": [],
   "source": [
    "w2v_train = preprocess_df(clean_train)\n",
    "w2v_test = preprocess_df(clean_test)"
   ]
  },
  {
   "cell_type": "code",
   "execution_count": 28,
   "id": "spread-schedule",
   "metadata": {},
   "outputs": [],
   "source": [
    "w2v_train = [word_tokenize(_d) for i, _d in enumerate(w2v_train.OriginalTweet)]\n",
    "w2v_test = [word_tokenize(_d) for i, _d in enumerate(w2v_test.OriginalTweet)]"
   ]
  },
  {
   "cell_type": "markdown",
   "id": "broad-enemy",
   "metadata": {},
   "source": [
    "### 4. Model Building and Training"
   ]
  },
  {
   "cell_type": "markdown",
   "id": "czech-september",
   "metadata": {},
   "source": [
    "### 1. Word2Vec model"
   ]
  },
  {
   "cell_type": "code",
   "execution_count": 157,
   "id": "fifth-absorption",
   "metadata": {},
   "outputs": [],
   "source": [
    "# Word2Vec model\n",
    "\n",
    "w2v_model = Word2Vec(min_count=50,\n",
    "                     window=2,\n",
    "                     size=200,\n",
    "                     sample=6e-5, \n",
    "                     alpha=0.03, \n",
    "                     min_alpha=0.0007, \n",
    "                     negative=20,\n",
    "                     workers=12)\n",
    "w2v_model.build_vocab(w2v_train, progress_per=10000)\n",
    "w2v_model.train(w2v_train, total_examples=w2v_model.corpus_count, epochs=30, report_delay=1)\n",
    "w2v_model.init_sims(replace=True)"
   ]
  },
  {
   "cell_type": "code",
   "execution_count": 158,
   "id": "brown-vacation",
   "metadata": {},
   "outputs": [],
   "source": [
    "cal = []\n",
    "for i in range(len(w2v_train)):\n",
    "    matrix = []\n",
    "    for w in w2v_train[i]:\n",
    "        if w in w2v_model.wv.vocab:\n",
    "            matrix.append(w2v_model.wv[w])\n",
    "    if len(matrix) != 0:\n",
    "        cal.append((sum(matrix)/len(matrix)))\n",
    "    else:\n",
    "        cal.append(np.NaN)\n",
    "df_train['w2v_vec'] = cal\n",
    "\n",
    "cal = []\n",
    "for i in range(len(w2v_test)):\n",
    "    matrix = []\n",
    "    for w in w2v_test[i]:\n",
    "        if w in w2v_model.wv.vocab:\n",
    "            matrix.append(w2v_model.wv[w])\n",
    "    if len(matrix) != 0:\n",
    "        cal.append((sum(matrix)/len(matrix)))\n",
    "    else:\n",
    "        cal.append(np.NaN)\n",
    "df_test['w2v_vec'] = cal"
   ]
  },
  {
   "cell_type": "code",
   "execution_count": 159,
   "id": "soviet-subscriber",
   "metadata": {},
   "outputs": [],
   "source": [
    "#train input\n",
    "dimen = 200\n",
    "cal_n = 0\n",
    "for i in range(len(df_train)):\n",
    "    if cal_n == 0:\n",
    "        if type(df_train['w2v_vec'].iloc[i]) == np.ndarray:\n",
    "            cal_df_train = pd.DataFrame(df_train['w2v_vec'].iloc[i]).T\n",
    "            cal_n = 1\n",
    "        else:\n",
    "            cal_df_train = pd.DataFrame([0] * dimen).T\n",
    "            cal_n = 1\n",
    "\n",
    "    else:\n",
    "        if type(df_train['w2v_vec'].iloc[i]) == np.ndarray:#.shape == (100,):\n",
    "            data = pd.DataFrame(df_train['w2v_vec'].iloc[i]).T\n",
    "            cal_df_train = pd.concat([cal_df_train, data])\n",
    "        else:\n",
    "            data = pd.DataFrame([0] * dimen).T\n",
    "            cal_df_train = pd.concat([cal_df_train, data])"
   ]
  },
  {
   "cell_type": "code",
   "execution_count": 160,
   "id": "civic-shareware",
   "metadata": {},
   "outputs": [],
   "source": [
    "#test input\n",
    "cal_n = 0\n",
    "for i in range(len(df_test)):\n",
    "    if cal_n == 0:\n",
    "        if type(df_test['w2v_vec'].iloc[i]) == np.ndarray:\n",
    "            cal_df_test = pd.DataFrame(df_test['w2v_vec'].iloc[i]).T\n",
    "            cal_n = 1\n",
    "        else:\n",
    "            cal_df_test = pd.DataFrame([0] * dimen).T\n",
    "            cal_n = 1\n",
    "\n",
    "    else:\n",
    "        if type(df_test['w2v_vec'].iloc[i]) == np.ndarray:#.shape == (100,):\n",
    "            data = pd.DataFrame(df_test['w2v_vec'].iloc[i]).T\n",
    "            cal_df_test = pd.concat([cal_df_test, data])\n",
    "        else:\n",
    "            data = pd.DataFrame([0] * dimen).T\n",
    "            cal_df_test = pd.concat([cal_df_test, data])"
   ]
  },
  {
   "cell_type": "markdown",
   "id": "parental-married",
   "metadata": {},
   "source": [
    "#### 5-label Word2Vec"
   ]
  },
  {
   "cell_type": "code",
   "execution_count": null,
   "id": "mexican-sound",
   "metadata": {},
   "outputs": [],
   "source": [
    "X_train = cal_df_train.values\n",
    "y_train = df_train['Sentiment'].values\n",
    "X_test = cal_df_test.values\n",
    "y_test = df_test['Sentiment'].values"
   ]
  },
  {
   "cell_type": "code",
   "execution_count": 27,
   "id": "positive-trail",
   "metadata": {},
   "outputs": [
    {
     "name": "stderr",
     "output_type": "stream",
     "text": [
      "[Parallel(n_jobs=-1)]: Using backend LokyBackend with 6 concurrent workers.\n",
      "[Parallel(n_jobs=-1)]: Done   2 out of   5 | elapsed: 13.6min remaining: 20.4min\n",
      "[Parallel(n_jobs=-1)]: Done   5 out of   5 | elapsed: 15.0min finished\n"
     ]
    },
    {
     "data": {
      "text/plain": [
       "0.4228541337546077"
      ]
     },
     "execution_count": 27,
     "metadata": {},
     "output_type": "execute_result"
    }
   ],
   "source": [
    "from sklearn.linear_model import LogisticRegressionCV\n",
    "\n",
    "C_test = list(np.power(10.0, np.arange(-10, 10)))\n",
    "clf = LogisticRegressionCV(cv=5,\n",
    "                            Cs=C_test,\n",
    "                            scoring='accuracy',\n",
    "                           random_state=42,\n",
    "                           n_jobs=-1,\n",
    "                           verbose=3,\n",
    "                           max_iter=100000000).fit(X_train, y_train)\n",
    "\n",
    "#accuracy score for the list of floats\n",
    "clf.score(X_test, y_test)  "
   ]
  },
  {
   "cell_type": "code",
   "execution_count": 28,
   "id": "excess-catalog",
   "metadata": {},
   "outputs": [
    {
     "name": "stdout",
     "output_type": "stream",
     "text": [
      "Accuracy score: 0.4228541337546077\n",
      "Macro-f1 score:0.4173502047716788\n",
      "Micro-f1 score:0.4228541337546076\n"
     ]
    }
   ],
   "source": [
    "from sklearn.metrics import classification_report\n",
    "from sklearn.metrics import accuracy_score\n",
    "from sklearn.metrics import f1_score\n",
    "y_predict = clf.predict(X_test) #using train + validation data to predict test data\n",
    "print('Accuracy score: ' + str(accuracy_score(y_test, y_predict)))\n",
    "print('Macro-f1 score:' + str(f1_score(y_test, y_predict, average='macro')))\n",
    "print('Micro-f1 score:' + str(f1_score(y_test, y_predict, average='micro')))"
   ]
  },
  {
   "cell_type": "code",
   "execution_count": 39,
   "id": "active-encoding",
   "metadata": {},
   "outputs": [
    {
     "name": "stdout",
     "output_type": "stream",
     "text": [
      "                    precision    recall  f1-score   support\n",
      "\n",
      "Extremely Negative       0.49      0.26      0.34       592\n",
      "Extremely Positive       0.59      0.26      0.36       599\n",
      "          Negative       0.38      0.44      0.41      1041\n",
      "           Neutral       0.45      0.44      0.45       619\n",
      "          Positive       0.33      0.50      0.40       947\n",
      "\n",
      "          accuracy                           0.40      3798\n",
      "         macro avg       0.45      0.38      0.39      3798\n",
      "      weighted avg       0.43      0.40      0.39      3798\n",
      "\n"
     ]
    }
   ],
   "source": [
    "print(classification_report(y_test,y_predict))"
   ]
  },
  {
   "cell_type": "markdown",
   "id": "speaking-survivor",
   "metadata": {},
   "source": [
    "#### 3-label Word2Vec"
   ]
  },
  {
   "cell_type": "code",
   "execution_count": 171,
   "id": "foreign-visitor",
   "metadata": {},
   "outputs": [],
   "source": [
    "encoding = {'Extremely Negative': 'Negative',\n",
    "            'Extremely Positive': 'Positive'\n",
    "           }\n",
    "labels = ['Negative', 'Neutral', 'Positive']\n",
    "X_train = cal_df_train.values\n",
    "y_train = df_train[['Sentiment']].replace(encoding)['Sentiment'].values\n",
    "X_test = cal_df_test.values\n",
    "y_test = df_test[['Sentiment']].replace(encoding)['Sentiment'].values\n"
   ]
  },
  {
   "cell_type": "code",
   "execution_count": 172,
   "id": "atmospheric-martin",
   "metadata": {},
   "outputs": [
    {
     "name": "stderr",
     "output_type": "stream",
     "text": [
      "[Parallel(n_jobs=-1)]: Using backend LokyBackend with 6 concurrent workers.\n",
      "[Parallel(n_jobs=-1)]: Done   2 out of   5 | elapsed:  8.8min remaining: 13.1min\n",
      "[Parallel(n_jobs=-1)]: Done   5 out of   5 | elapsed:  9.2min finished\n"
     ]
    },
    {
     "data": {
      "text/plain": [
       "0.6537651395471301"
      ]
     },
     "execution_count": 172,
     "metadata": {},
     "output_type": "execute_result"
    }
   ],
   "source": [
    "from sklearn.linear_model import LogisticRegressionCV\n",
    "\n",
    "C_test = list(np.power(10.0, np.arange(-10, 10)))\n",
    "clf = LogisticRegressionCV(cv=5,\n",
    "                            Cs=C_test,\n",
    "                            scoring='accuracy',\n",
    "                           random_state=42,\n",
    "                           n_jobs=-1,\n",
    "                           verbose=3,\n",
    "                           max_iter=100000000).fit(X_train, y_train)\n",
    "\n",
    "#accuracy score for the list of floats\n",
    "clf.score(X_test, y_test) "
   ]
  },
  {
   "cell_type": "code",
   "execution_count": 173,
   "id": "strange-scout",
   "metadata": {},
   "outputs": [
    {
     "name": "stdout",
     "output_type": "stream",
     "text": [
      "Accuracy score: 0.6537651395471301\n",
      "Macro-f1 score:0.6118022783435241\n",
      "Micro-f1 score:0.6537651395471301\n"
     ]
    }
   ],
   "source": [
    "from sklearn.metrics import classification_report\n",
    "from sklearn.metrics import accuracy_score\n",
    "from sklearn.metrics import f1_score\n",
    "y_predict = clf.predict(X_test) #using train + validation data to predict test data\n",
    "print('Accuracy score: ' + str(accuracy_score(y_test, y_predict)))\n",
    "print('Macro-f1 score:' + str(f1_score(y_test, y_predict, average='macro')))\n",
    "print('Micro-f1 score:' + str(f1_score(y_test, y_predict, average='micro')))"
   ]
  },
  {
   "cell_type": "code",
   "execution_count": 174,
   "id": "funded-nothing",
   "metadata": {},
   "outputs": [
    {
     "name": "stdout",
     "output_type": "stream",
     "text": [
      "              precision    recall  f1-score   support\n",
      "\n",
      "    Negative       0.68      0.69      0.68      1633\n",
      "     Neutral       0.58      0.40      0.47       619\n",
      "    Positive       0.65      0.72      0.68      1546\n",
      "\n",
      "    accuracy                           0.65      3798\n",
      "   macro avg       0.63      0.60      0.61      3798\n",
      "weighted avg       0.65      0.65      0.65      3798\n",
      "\n"
     ]
    }
   ],
   "source": [
    "print(classification_report(y_test,y_predict))"
   ]
  },
  {
   "cell_type": "markdown",
   "id": "important-romania",
   "metadata": {},
   "source": [
    "### 2. GloVe twitter 200d"
   ]
  },
  {
   "cell_type": "markdown",
   "id": "perfect-healing",
   "metadata": {},
   "source": [
    "#### 5-label GloVe"
   ]
  },
  {
   "cell_type": "code",
   "execution_count": 176,
   "id": "favorite-diploma",
   "metadata": {},
   "outputs": [],
   "source": [
    "# GloVe\n",
    "from gensim.test.utils import datapath, get_tmpfile\n",
    "from gensim.models import KeyedVectors\n",
    "from gensim.scripts.glove2word2vec import glove2word2vec\n",
    "\n",
    "glove_file = 'glove.twitter.27B.200d.txt'\n",
    "tmp_file = get_tmpfile(\"test_word2vec.txt\")\n",
    "\n",
    "_ = glove2word2vec(glove_file, tmp_file)\n",
    "\n",
    "model = KeyedVectors.load_word2vec_format(tmp_file)"
   ]
  },
  {
   "cell_type": "code",
   "execution_count": 177,
   "id": "respective-variable",
   "metadata": {},
   "outputs": [],
   "source": [
    "#GloVe Model\n",
    "cal = []\n",
    "for i in range(len(w2v_train)):\n",
    "    matrix = []\n",
    "    for w in w2v_train[i]:\n",
    "        if w in model.wv.vocab:\n",
    "            matrix.append(model.wv[w])\n",
    "    if len(matrix) != 0:\n",
    "        cal.append((sum(matrix)/len(matrix)))\n",
    "    else:\n",
    "        cal.append(np.NaN)\n",
    "df_train['Glo_vec'] = cal\n",
    "\n",
    "cal = []\n",
    "for i in range(len(w2v_test)):\n",
    "    matrix = []\n",
    "    for w in w2v_test[i]:\n",
    "        if w in model.wv.vocab:\n",
    "            matrix.append(model.wv[w])\n",
    "    if len(matrix) != 0:\n",
    "        cal.append((sum(matrix)/len(matrix)))\n",
    "    else:\n",
    "        cal.append(np.NaN)\n",
    "df_test['Glo_vec'] = cal"
   ]
  },
  {
   "cell_type": "code",
   "execution_count": 178,
   "id": "adolescent-pioneer",
   "metadata": {},
   "outputs": [],
   "source": [
    "cal_n = 0\n",
    "dimen = 200\n",
    "for i in range(len(df_train)):\n",
    "    if cal_n == 0:\n",
    "        if type(df_train['w2v_vec'].iloc[i]) == np.ndarray:\n",
    "            cal_df_train = pd.DataFrame(df_train['w2v_vec'].iloc[i]).T\n",
    "            cal_n = 1\n",
    "        else:\n",
    "            cal_df_train = pd.DataFrame([0] * dimen).T\n",
    "            cal_n = 1\n",
    "\n",
    "    else:\n",
    "        if type(df_train['Glo_vec'].iloc[i]) == np.ndarray:#.shape == (100,):\n",
    "            data = pd.DataFrame(df_train['Glo_vec'].iloc[i]).T\n",
    "            cal_df_train = pd.concat([cal_df_train, data])\n",
    "        else:\n",
    "            data = pd.DataFrame([0] * dimen).T\n",
    "            cal_df_train = pd.concat([cal_df_train, data])\n",
    "\n",
    "cal_n = 0\n",
    "for i in range(len(df_test)):\n",
    "    if cal_n == 0:\n",
    "        if type(df_test['w2v_vec'].iloc[i]) == np.ndarray:\n",
    "            cal_df_test = pd.DataFrame(df_test['Glo_vec'].iloc[i]).T\n",
    "            cal_n = 1\n",
    "        else:\n",
    "            cal_df_test = pd.DataFrame([0] * dimen).T\n",
    "            cal_n = 1\n",
    "\n",
    "    else:\n",
    "        if type(df_test['Glo_vec'].iloc[i]) == np.ndarray:#.shape == (100,):\n",
    "            data = pd.DataFrame(df_test['Glo_vec'].iloc[i]).T\n",
    "            cal_df_test = pd.concat([cal_df_test, data])\n",
    "        else:\n",
    "            data = pd.DataFrame([0] * dimen).T\n",
    "            cal_df_test = pd.concat([cal_df_test, data])"
   ]
  },
  {
   "cell_type": "code",
   "execution_count": 32,
   "id": "grateful-stationery",
   "metadata": {},
   "outputs": [],
   "source": [
    "X_train = cal_df_train.values\n",
    "y_train = df_train['Sentiment'].values\n",
    "X_test = cal_df_test.values\n",
    "y_test = df_test['Sentiment'].values"
   ]
  },
  {
   "cell_type": "code",
   "execution_count": 33,
   "id": "satellite-address",
   "metadata": {},
   "outputs": [
    {
     "name": "stderr",
     "output_type": "stream",
     "text": [
      "[Parallel(n_jobs=-1)]: Using backend LokyBackend with 6 concurrent workers.\n",
      "[Parallel(n_jobs=-1)]: Done   2 out of   5 | elapsed:  3.3min remaining:  5.0min\n",
      "[Parallel(n_jobs=-1)]: Done   5 out of   5 | elapsed:  3.5min finished\n"
     ]
    },
    {
     "data": {
      "text/plain": [
       "0.4370721432332807"
      ]
     },
     "execution_count": 33,
     "metadata": {},
     "output_type": "execute_result"
    }
   ],
   "source": [
    "C_test = list(np.power(10.0, np.arange(-10, 10)))\n",
    "clf = LogisticRegressionCV(cv=5,\n",
    "                            Cs=C_test,\n",
    "                            scoring='accuracy',\n",
    "                           random_state=42,\n",
    "                           n_jobs=-1,\n",
    "                           verbose=3,\n",
    "                           max_iter=100000000).fit(X_train, y_train)\n",
    "\n",
    "#accuracy score for the list of floats\n",
    "clf.score(X_test, y_test)  "
   ]
  },
  {
   "cell_type": "code",
   "execution_count": 34,
   "id": "international-climb",
   "metadata": {},
   "outputs": [
    {
     "name": "stdout",
     "output_type": "stream",
     "text": [
      "Accuracy score: 0.4370721432332807\n",
      "Macro-f1 score:0.43481863677876686\n",
      "Micro-f1 score:0.4370721432332807\n"
     ]
    }
   ],
   "source": [
    "y_predict_g = clf.predict(X_test) #using train + validation data to predict test data\n",
    "print('Accuracy score: ' + str(accuracy_score(y_test, y_predict_g)))\n",
    "print('Macro-f1 score:' + str(f1_score(y_test, y_predict_g, average='macro')))\n",
    "print('Micro-f1 score:' + str(f1_score(y_test, y_predict_g, average='micro')))\n"
   ]
  },
  {
   "cell_type": "code",
   "execution_count": 35,
   "id": "amino-failure",
   "metadata": {},
   "outputs": [
    {
     "name": "stdout",
     "output_type": "stream",
     "text": [
      "                    precision    recall  f1-score   support\n",
      "\n",
      "Extremely Negative       0.53      0.31      0.39       592\n",
      "Extremely Positive       0.63      0.33      0.43       599\n",
      "          Negative       0.41      0.44      0.43      1041\n",
      "           Neutral       0.46      0.50      0.48       619\n",
      "          Positive       0.38      0.53      0.44       947\n",
      "\n",
      "          accuracy                           0.44      3798\n",
      "         macro avg       0.48      0.42      0.43      3798\n",
      "      weighted avg       0.46      0.44      0.43      3798\n",
      "\n"
     ]
    }
   ],
   "source": [
    "print(classification_report(y_test,y_predict_g))"
   ]
  },
  {
   "cell_type": "markdown",
   "id": "proud-output",
   "metadata": {},
   "source": [
    "#### 3-label GloVe"
   ]
  },
  {
   "cell_type": "code",
   "execution_count": 179,
   "id": "pursuant-passenger",
   "metadata": {},
   "outputs": [],
   "source": [
    "encoding = {'Extremely Negative': 'Negative',\n",
    "            'Extremely Positive': 'Positive'\n",
    "           }\n",
    "labels = ['Negative', 'Neutral', 'Positive']\n",
    "X_train = cal_df_train.values\n",
    "y_train = df_train[['Sentiment']].replace(encoding)['Sentiment'].values\n",
    "X_test = cal_df_test.values\n",
    "y_test = df_test[['Sentiment']].replace(encoding)['Sentiment'].values\n"
   ]
  },
  {
   "cell_type": "code",
   "execution_count": 180,
   "id": "italian-lambda",
   "metadata": {},
   "outputs": [
    {
     "name": "stderr",
     "output_type": "stream",
     "text": [
      "[Parallel(n_jobs=-1)]: Using backend LokyBackend with 6 concurrent workers.\n",
      "[Parallel(n_jobs=-1)]: Done   2 out of   5 | elapsed:  2.0min remaining:  3.0min\n",
      "[Parallel(n_jobs=-1)]: Done   5 out of   5 | elapsed:  2.0min finished\n"
     ]
    },
    {
     "data": {
      "text/plain": [
       "0.6521853607161664"
      ]
     },
     "execution_count": 180,
     "metadata": {},
     "output_type": "execute_result"
    }
   ],
   "source": [
    "C_test = list(np.power(10.0, np.arange(-10, 10)))\n",
    "clf = LogisticRegressionCV(cv=5,\n",
    "                            Cs=C_test,\n",
    "                            scoring='accuracy',\n",
    "                           random_state=42,\n",
    "                           n_jobs=-1,\n",
    "                           verbose=3,\n",
    "                           max_iter=100000000).fit(X_train, y_train)\n",
    "\n",
    "#accuracy score for the list of floats\n",
    "clf.score(X_test, y_test)  "
   ]
  },
  {
   "cell_type": "code",
   "execution_count": 181,
   "id": "unlikely-citizenship",
   "metadata": {},
   "outputs": [
    {
     "name": "stdout",
     "output_type": "stream",
     "text": [
      "Accuracy score: 0.6521853607161664\n",
      "Macro-f1 score:0.6065921781554265\n",
      "Micro-f1 score:0.6521853607161664\n"
     ]
    }
   ],
   "source": [
    "y_predict_g = clf.predict(X_test) #using train + validation data to predict test data\n",
    "print('Accuracy score: ' + str(accuracy_score(y_test, y_predict_g)))\n",
    "print('Macro-f1 score:' + str(f1_score(y_test, y_predict_g, average='macro')))\n",
    "print('Micro-f1 score:' + str(f1_score(y_test, y_predict_g, average='micro')))\n"
   ]
  },
  {
   "cell_type": "code",
   "execution_count": 182,
   "id": "selected-exception",
   "metadata": {},
   "outputs": [
    {
     "name": "stdout",
     "output_type": "stream",
     "text": [
      "              precision    recall  f1-score   support\n",
      "\n",
      "    Negative       0.70      0.68      0.69      1633\n",
      "     Neutral       0.52      0.39      0.45       619\n",
      "    Positive       0.65      0.73      0.68      1546\n",
      "\n",
      "    accuracy                           0.65      3798\n",
      "   macro avg       0.62      0.60      0.61      3798\n",
      "weighted avg       0.65      0.65      0.65      3798\n",
      "\n"
     ]
    }
   ],
   "source": [
    "print(classification_report(y_test,y_predict_g))"
   ]
  },
  {
   "cell_type": "markdown",
   "id": "relevant-selection",
   "metadata": {},
   "source": [
    "### 3. tf-idf"
   ]
  },
  {
   "cell_type": "markdown",
   "id": "altered-holder",
   "metadata": {},
   "source": [
    "#### 5-label tf-idf"
   ]
  },
  {
   "cell_type": "code",
   "execution_count": 183,
   "id": "ranging-advocate",
   "metadata": {},
   "outputs": [],
   "source": [
    "clean_train.OriginalTweet = train_pre\n",
    "clean_test.OriginalTweet = test_pre\n",
    "w2v_train = preprocess_df(clean_train)\n",
    "#w2v_train = [word_tokenize(_d) for i, _d in enumerate(w2v_train.OriginalTweet)]\n",
    "\n",
    "w2v_test = preprocess_df(clean_test)\n",
    "#w2v_test = [word_tokenize(_d) for i, _d in enumerate(w2v_test.OriginalTweet)]"
   ]
  },
  {
   "cell_type": "code",
   "execution_count": 184,
   "id": "sensitive-pipeline",
   "metadata": {},
   "outputs": [],
   "source": [
    "X = pd.concat([clean_train, clean_test])"
   ]
  },
  {
   "cell_type": "code",
   "execution_count": 185,
   "id": "representative-monthly",
   "metadata": {},
   "outputs": [],
   "source": [
    "from sklearn.feature_extraction.text import TfidfVectorizer\n",
    "tfidf = TfidfVectorizer(strip_accents=None,\n",
    "                        lowercase=True,\n",
    "                        preprocessor=None,  # applied preprocessor in Data Cleaning\n",
    "                        tokenizer=word_tokenize,\n",
    "                        use_idf=True,\n",
    "                        min_df=50,\n",
    "                        norm='l2',\n",
    "                        smooth_idf=True)\n",
    "\n",
    "df_tfidf = []\n",
    "for i in range(len(X)):\n",
    "    sen = X.OriginalTweet.iloc[i]\n",
    "    df_tfidf.append(sen)\n",
    "    \n",
    "df_tfidf = tfidf.fit_transform(df_tfidf)"
   ]
  },
  {
   "cell_type": "code",
   "execution_count": 186,
   "id": "exciting-characteristic",
   "metadata": {},
   "outputs": [
    {
     "name": "stdout",
     "output_type": "stream",
     "text": [
      "(3798, 1916)\n"
     ]
    }
   ],
   "source": [
    "X_train = df_tfidf[:41157]\n",
    "X_test = df_tfidf[41157:]\n",
    "print(X_test.shape)\n",
    "#tfidf.get_feature_names()"
   ]
  },
  {
   "cell_type": "code",
   "execution_count": null,
   "id": "resistant-mongolia",
   "metadata": {},
   "outputs": [],
   "source": [
    "y_train = df_train['Sentiment'].values\n",
    "y_test = df_test['Sentiment'].values"
   ]
  },
  {
   "cell_type": "code",
   "execution_count": 46,
   "id": "purple-perth",
   "metadata": {},
   "outputs": [
    {
     "name": "stderr",
     "output_type": "stream",
     "text": [
      "[Parallel(n_jobs=-1)]: Using backend LokyBackend with 6 concurrent workers.\n",
      "[Parallel(n_jobs=-1)]: Done   2 out of   5 | elapsed:   54.7s remaining:  1.4min\n",
      "[Parallel(n_jobs=-1)]: Done   5 out of   5 | elapsed:  1.0min finished\n"
     ]
    },
    {
     "data": {
      "text/plain": [
       "0.6295418641390206"
      ]
     },
     "execution_count": 46,
     "metadata": {},
     "output_type": "execute_result"
    }
   ],
   "source": [
    "C_test = list(np.power(10.0, np.arange(-10, 10)))\n",
    "clf = LogisticRegressionCV(cv=5,\n",
    "                            Cs=C_test,\n",
    "                            scoring='accuracy',\n",
    "                           random_state=42,\n",
    "                           n_jobs=-1,\n",
    "                           verbose=3,\n",
    "                           max_iter=100000000).fit(X_train, y_train)\n",
    "\n",
    "#accuracy score for the list of floats\n",
    "clf.score(X_test, y_test)  "
   ]
  },
  {
   "cell_type": "code",
   "execution_count": 47,
   "id": "cubic-costa",
   "metadata": {},
   "outputs": [
    {
     "name": "stdout",
     "output_type": "stream",
     "text": [
      "Accuracy score: 0.6295418641390206\n",
      "Macro-f1 score:0.6411512636702114\n",
      "Micro-f1 score:0.6295418641390206\n"
     ]
    }
   ],
   "source": [
    "y_predict_g = clf.predict(X_test) #using train + validation data to predict test data\n",
    "print('Accuracy score: ' + str(accuracy_score(y_test, y_predict_g)))\n",
    "print('Macro-f1 score:' + str(f1_score(y_test, y_predict_g, average='macro')))\n",
    "print('Micro-f1 score:' + str(f1_score(y_test, y_predict_g, average='micro')))\n"
   ]
  },
  {
   "cell_type": "code",
   "execution_count": 48,
   "id": "human-workshop",
   "metadata": {},
   "outputs": [
    {
     "name": "stdout",
     "output_type": "stream",
     "text": [
      "                    precision    recall  f1-score   support\n",
      "\n",
      "Extremely Negative       0.65      0.60      0.63       592\n",
      "Extremely Positive       0.73      0.66      0.69       599\n",
      "          Negative       0.58      0.55      0.57      1041\n",
      "           Neutral       0.69      0.76      0.72       619\n",
      "          Positive       0.57      0.63      0.60       947\n",
      "\n",
      "          accuracy                           0.63      3798\n",
      "         macro avg       0.64      0.64      0.64      3798\n",
      "      weighted avg       0.63      0.63      0.63      3798\n",
      "\n"
     ]
    }
   ],
   "source": [
    "print(classification_report(y_test,y_predict_g))"
   ]
  },
  {
   "cell_type": "markdown",
   "id": "bored-automation",
   "metadata": {},
   "source": [
    "#### 3-label tf-idf"
   ]
  },
  {
   "cell_type": "code",
   "execution_count": null,
   "id": "unique-expense",
   "metadata": {},
   "outputs": [],
   "source": [
    "encoding = {'Extremely Negative': 'Negative',\n",
    "            'Extremely Positive': 'Positive'\n",
    "           }\n",
    "labels = ['Negative', 'Neutral', 'Positive']\n",
    "y_train = df_train[['Sentiment']].replace(encoding)['Sentiment'].values\n",
    "y_test = df_test[['Sentiment']].replace(encoding)['Sentiment'].values\n"
   ]
  },
  {
   "cell_type": "code",
   "execution_count": 187,
   "id": "furnished-velvet",
   "metadata": {},
   "outputs": [
    {
     "name": "stderr",
     "output_type": "stream",
     "text": [
      "[Parallel(n_jobs=-1)]: Using backend LokyBackend with 6 concurrent workers.\n",
      "[Parallel(n_jobs=-1)]: Done   2 out of   5 | elapsed:   25.4s remaining:   38.1s\n",
      "[Parallel(n_jobs=-1)]: Done   5 out of   5 | elapsed:   28.6s finished\n"
     ]
    },
    {
     "data": {
      "text/plain": [
       "0.7996313849394419"
      ]
     },
     "execution_count": 187,
     "metadata": {},
     "output_type": "execute_result"
    }
   ],
   "source": [
    "C_test = list(np.power(10.0, np.arange(-10, 10)))\n",
    "clf = LogisticRegressionCV(cv=5,\n",
    "                            Cs=C_test,\n",
    "                            scoring='accuracy',\n",
    "                           random_state=42,\n",
    "                           n_jobs=-1,\n",
    "                           verbose=3,\n",
    "                           max_iter=100000000).fit(X_train, y_train)\n",
    "\n",
    "#accuracy score for the list of floats\n",
    "clf.score(X_test, y_test)  "
   ]
  },
  {
   "cell_type": "code",
   "execution_count": 188,
   "id": "honest-practice",
   "metadata": {},
   "outputs": [
    {
     "name": "stdout",
     "output_type": "stream",
     "text": [
      "Accuracy score: 0.7996313849394419\n",
      "Macro-f1 score:0.7835826031428249\n",
      "Micro-f1 score:0.7996313849394419\n"
     ]
    }
   ],
   "source": [
    "y_predict_g = clf.predict(X_test) #using train + validation data to predict test data\n",
    "print('Accuracy score: ' + str(accuracy_score(y_test, y_predict_g)))\n",
    "print('Macro-f1 score:' + str(f1_score(y_test, y_predict_g, average='macro')))\n",
    "print('Micro-f1 score:' + str(f1_score(y_test, y_predict_g, average='micro')))\n"
   ]
  },
  {
   "cell_type": "code",
   "execution_count": 189,
   "id": "banner-bunch",
   "metadata": {},
   "outputs": [
    {
     "name": "stdout",
     "output_type": "stream",
     "text": [
      "              precision    recall  f1-score   support\n",
      "\n",
      "    Negative       0.83      0.80      0.81      1633\n",
      "     Neutral       0.71      0.73      0.72       619\n",
      "    Positive       0.81      0.83      0.82      1546\n",
      "\n",
      "    accuracy                           0.80      3798\n",
      "   macro avg       0.78      0.79      0.78      3798\n",
      "weighted avg       0.80      0.80      0.80      3798\n",
      "\n"
     ]
    }
   ],
   "source": [
    "print(classification_report(y_test,y_predict_g))"
   ]
  },
  {
   "cell_type": "markdown",
   "id": "funky-operation",
   "metadata": {},
   "source": [
    "### 4. Tensorflow Keras"
   ]
  },
  {
   "cell_type": "markdown",
   "id": "promotional-wedding",
   "metadata": {},
   "source": [
    "#### 3-label Keras"
   ]
  },
  {
   "cell_type": "code",
   "execution_count": 15,
   "id": "southeast-institute",
   "metadata": {},
   "outputs": [],
   "source": [
    "import tensorflow as tf\n",
    "from tensorflow.keras.preprocessing.text import Tokenizer\n",
    "from tensorflow.keras.preprocessing.sequence import pad_sequences\n",
    "import tensorflow.keras.layers as L\n",
    "from tensorflow.keras.losses import SparseCategoricalCrossentropy\n",
    "from tensorflow.keras.optimizers import Adam"
   ]
  },
  {
   "cell_type": "code",
   "execution_count": 16,
   "id": "aerial-religion",
   "metadata": {},
   "outputs": [],
   "source": [
    "train = pd.read_csv('Corona_NLP_train.csv',encoding='latin1')\n",
    "test = pd.read_csv('Corona_NLP_test.csv',encoding='latin1')"
   ]
  },
  {
   "cell_type": "code",
   "execution_count": 140,
   "id": "failing-saint",
   "metadata": {},
   "outputs": [],
   "source": [
    "X = train['OriginalTweet'].copy()\n",
    "y = train['Sentiment'].copy()"
   ]
  },
  {
   "cell_type": "code",
   "execution_count": 141,
   "id": "internal-philip",
   "metadata": {},
   "outputs": [
    {
     "data": {
      "text/plain": [
       "0                                                     \n",
       "1    advice Talk neighbours family exchange phone n...\n",
       "2    Coronavirus Australia: Woolworths give elderly...\n",
       "3    My food stock one empty... PLEASE, panic, THER...\n",
       "4    Me, ready go supermarket outbreak. Not I'm par...\n",
       "Name: OriginalTweet, dtype: object"
      ]
     },
     "execution_count": 141,
     "metadata": {},
     "output_type": "execute_result"
    }
   ],
   "source": [
    "def data_cleaner(tweet):\n",
    "    \n",
    "    # remove urls\n",
    "    tweet = re.sub(r'http\\S+', ' ', tweet)\n",
    "    \n",
    "    # remove html tags\n",
    "    tweet = re.sub(r'<.*?>',' ', tweet)\n",
    "    \n",
    "    # remove digits\n",
    "    tweet = re.sub(r'\\d+',' ', tweet)\n",
    "    \n",
    "    # remove hashtags\n",
    "    tweet = re.sub(r'#\\w+',' ', tweet)\n",
    "    \n",
    "    # remove mentions\n",
    "    tweet = re.sub(r'@\\w+',' ', tweet)\n",
    "    \n",
    "    #removing stop words\n",
    "    tweet = tweet.split()\n",
    "    tweet = \" \".join([word for word in tweet if not word in stop_words])\n",
    "    \n",
    "    return tweet\n",
    "\n",
    "\n",
    "stop_words = stopwords.words('english')\n",
    "\n",
    "X_cleaned = X.apply(data_cleaner)\n",
    "X_cleaned.head()"
   ]
  },
  {
   "cell_type": "code",
   "execution_count": 142,
   "id": "falling-syria",
   "metadata": {},
   "outputs": [
    {
     "name": "stdout",
     "output_type": "stream",
     "text": [
      "Vocabulary size: 36117\n",
      "\n",
      "Example:\n",
      "\n",
      "Sentence:\n",
      "Cashier grocery store sharing insights To prove credibility commented \"I'm Civics class I know I'm talking about\".\n",
      "\n",
      "After tokenizing :\n",
      "[1174, 7, 4, 1269, 761, 65, 2902, 9761, 9762, 154, 18316, 1501, 2, 62, 154, 900, 958]\n",
      "\n",
      "After padding :\n",
      "[ 1174     7     4  1269   761    65  2902  9761  9762   154 18316  1501\n",
      "     2    62   154   900   958     0     0     0     0     0     0     0\n",
      "     0     0     0     0     0     0     0     0     0     0     0     0\n",
      "     0     0     0     0     0     0     0     0     0     0     0     0\n",
      "     0     0     0     0     0     0]\n"
     ]
    }
   ],
   "source": [
    "tokenizer = Tokenizer()\n",
    "tokenizer.fit_on_texts(X_cleaned)\n",
    "\n",
    "X = tokenizer.texts_to_sequences(X_cleaned)\n",
    "\n",
    "vocab_size = len(tokenizer.word_index)+1\n",
    "\n",
    "print(\"Vocabulary size: {}\".format(vocab_size))\n",
    "print(\"\\nExample:\\n\")\n",
    "print(\"Sentence:\\n{}\".format(X_cleaned[6]))\n",
    "print(\"\\nAfter tokenizing :\\n{}\".format(X[6]))\n",
    "\n",
    "X = pad_sequences(X, padding='post')\n",
    "print(\"\\nAfter padding :\\n{}\".format(X[6]))"
   ]
  },
  {
   "cell_type": "code",
   "execution_count": 134,
   "id": "tough-administrator",
   "metadata": {},
   "outputs": [],
   "source": [
    "encoding = {'Extremely Negative': 0,\n",
    "            'Negative': 0,\n",
    "            'Neutral': 1,\n",
    "            'Positive':2,\n",
    "            'Extremely Positive': 2\n",
    "           }\n",
    "labels = ['Negative', 'Neutral', 'Positive']\n",
    "y.replace(encoding, inplace=True)\n"
   ]
  },
  {
   "cell_type": "code",
   "execution_count": 21,
   "id": "combined-friend",
   "metadata": {},
   "outputs": [
    {
     "name": "stdout",
     "output_type": "stream",
     "text": [
      "Model: \"sequential\"\n",
      "_________________________________________________________________\n",
      "Layer (type)                 Output Shape              Param #   \n",
      "=================================================================\n",
      "embedding (Embedding)        (None, 54, 16)            577872    \n",
      "_________________________________________________________________\n",
      "bidirectional (Bidirectional (None, 54, 512)           559104    \n",
      "_________________________________________________________________\n",
      "global_max_pooling1d (Global (None, 512)               0         \n",
      "_________________________________________________________________\n",
      "dropout (Dropout)            (None, 512)               0         \n",
      "_________________________________________________________________\n",
      "dense (Dense)                (None, 64)                32832     \n",
      "_________________________________________________________________\n",
      "dropout_1 (Dropout)          (None, 64)                0         \n",
      "_________________________________________________________________\n",
      "dense_1 (Dense)              (None, 3)                 195       \n",
      "=================================================================\n",
      "Total params: 1,170,003\n",
      "Trainable params: 1,170,003\n",
      "Non-trainable params: 0\n",
      "_________________________________________________________________\n"
     ]
    }
   ],
   "source": [
    "tf.keras.backend.clear_session()\n",
    "\n",
    "# hyper parameters\n",
    "EPOCHS = 2\n",
    "BATCH_SIZE = 32\n",
    "embedding_dim = 16\n",
    "units = 256\n",
    "\n",
    "model = tf.keras.Sequential([\n",
    "    L.Embedding(vocab_size, embedding_dim, input_length=X.shape[1]),\n",
    "    L.Bidirectional(L.LSTM(units,return_sequences=True)),\n",
    "    L.GlobalMaxPool1D(),\n",
    "    L.Dropout(0.4),\n",
    "    L.Dense(64, activation=\"relu\"),\n",
    "    L.Dropout(0.4),\n",
    "    L.Dense(3)\n",
    "])\n",
    "\n",
    "model.compile(loss=SparseCategoricalCrossentropy(from_logits=True),\n",
    "              optimizer='adam',metrics=['accuracy']\n",
    "             )\n",
    "model.summary()"
   ]
  },
  {
   "cell_type": "code",
   "execution_count": 22,
   "id": "medium-childhood",
   "metadata": {},
   "outputs": [
    {
     "name": "stdout",
     "output_type": "stream",
     "text": [
      "Epoch 1/2\n",
      "1132/1132 [==============================] - 304s 266ms/step - loss: 0.8472 - accuracy: 0.5791 - val_loss: 0.3935 - val_accuracy: 0.8631\n",
      "Epoch 2/2\n",
      "1132/1132 [==============================] - 291s 257ms/step - loss: 0.3401 - accuracy: 0.8903 - val_loss: 0.3644 - val_accuracy: 0.8739\n"
     ]
    }
   ],
   "source": [
    "history = model.fit(X, y, epochs=EPOCHS, validation_split=0.12, batch_size=BATCH_SIZE)"
   ]
  },
  {
   "cell_type": "code",
   "execution_count": 23,
   "id": "everyday-color",
   "metadata": {},
   "outputs": [
    {
     "name": "stdout",
     "output_type": "stream",
     "text": [
      "WARNING:tensorflow:Model was constructed with shape (None, 54) for input KerasTensor(type_spec=TensorSpec(shape=(None, 54), dtype=tf.float32, name='embedding_input'), name='embedding_input', description=\"created by layer 'embedding_input'\"), but it was called on an input with incompatible shape (None, 48).\n"
     ]
    }
   ],
   "source": [
    "X_test = test['OriginalTweet'].copy()\n",
    "y_test = test['Sentiment'].copy()\n",
    "X_test = X_test.apply(data_cleaner)\n",
    "X_test = tokenizer.texts_to_sequences(X_test)\n",
    "X_test = pad_sequences(X_test, padding='post')\n",
    "y_test.replace(encoding, inplace=True)\n",
    "pred = model.predict_classes(X_test)"
   ]
  },
  {
   "cell_type": "code",
   "execution_count": 24,
   "id": "considerable-biography",
   "metadata": {},
   "outputs": [
    {
     "name": "stdout",
     "output_type": "stream",
     "text": [
      "WARNING:tensorflow:Model was constructed with shape (None, 54) for input KerasTensor(type_spec=TensorSpec(shape=(None, 54), dtype=tf.float32, name='embedding_input'), name='embedding_input', description=\"created by layer 'embedding_input'\"), but it was called on an input with incompatible shape (None, 48).\n",
      "Test loss: 0.4222216010093689\n",
      "Test Accuracy: 0.8491311073303223\n",
      "              precision    recall  f1-score   support\n",
      "\n",
      "    Negative       0.84      0.86      0.85      1633\n",
      "     Neutral       0.89      0.75      0.82       619\n",
      "    Positive       0.84      0.88      0.86      1546\n",
      "\n",
      "    accuracy                           0.85      3798\n",
      "   macro avg       0.86      0.83      0.84      3798\n",
      "weighted avg       0.85      0.85      0.85      3798\n",
      "\n"
     ]
    }
   ],
   "source": [
    "loss, acc = model.evaluate(X_test,y_test,verbose=0)\n",
    "print('Test loss: {}'.format(loss))\n",
    "print('Test Accuracy: {}'.format(acc))\n",
    "print(classification_report(y_test, pred, target_names=labels))"
   ]
  },
  {
   "cell_type": "code",
   "execution_count": 26,
   "id": "dying-samoa",
   "metadata": {},
   "outputs": [
    {
     "name": "stdout",
     "output_type": "stream",
     "text": [
      "Macro-f1 score:0.8423643812689598\n",
      "Micro-f1 score:0.84913112164297\n"
     ]
    }
   ],
   "source": [
    "from sklearn.metrics import f1_score\n",
    "\n",
    "print('Macro-f1 score:' + str(f1_score(y_test, pred, average='macro')))\n",
    "print('Micro-f1 score:' + str(f1_score(y_test, pred, average='micro')))\n"
   ]
  },
  {
   "cell_type": "markdown",
   "id": "incorporate-century",
   "metadata": {},
   "source": [
    "#### 5-label Keras"
   ]
  },
  {
   "cell_type": "code",
   "execution_count": 145,
   "id": "based-armstrong",
   "metadata": {},
   "outputs": [
    {
     "name": "stdout",
     "output_type": "stream",
     "text": [
      "Model: \"sequential\"\n",
      "_________________________________________________________________\n",
      "Layer (type)                 Output Shape              Param #   \n",
      "=================================================================\n",
      "embedding (Embedding)        (None, 54, 16)            577872    \n",
      "_________________________________________________________________\n",
      "bidirectional (Bidirectional (None, 54, 512)           559104    \n",
      "_________________________________________________________________\n",
      "global_max_pooling1d (Global (None, 512)               0         \n",
      "_________________________________________________________________\n",
      "dropout (Dropout)            (None, 512)               0         \n",
      "_________________________________________________________________\n",
      "dense (Dense)                (None, 64)                32832     \n",
      "_________________________________________________________________\n",
      "dropout_1 (Dropout)          (None, 64)                0         \n",
      "_________________________________________________________________\n",
      "dense_1 (Dense)              (None, 5)                 325       \n",
      "=================================================================\n",
      "Total params: 1,170,133\n",
      "Trainable params: 1,170,133\n",
      "Non-trainable params: 0\n",
      "_________________________________________________________________\n",
      "Epoch 1/2\n",
      "1132/1132 [==============================] - 289s 253ms/step - loss: 1.4095 - accuracy: 0.3701 - val_loss: 0.7204 - val_accuracy: 0.7360\n",
      "Epoch 2/2\n",
      "1132/1132 [==============================] - 286s 253ms/step - loss: 0.6891 - accuracy: 0.7572 - val_loss: 0.5937 - val_accuracy: 0.7890\n"
     ]
    }
   ],
   "source": [
    "encoding = {'Extremely Negative': 0,\n",
    "            'Negative':1,\n",
    "            'Neutral': 2,\n",
    "            'Positive':3,\n",
    "            'Extremely Positive': 4\n",
    "           }\n",
    "labels = ['Extremely Negative','Negative', 'Neutral', 'Positive', 'Extremely Positive']\n",
    "y.replace(encoding, inplace=True)\n",
    "\n",
    "tf.keras.backend.clear_session()\n",
    "\n",
    "# hyper parameters\n",
    "EPOCHS = 2\n",
    "BATCH_SIZE = 32\n",
    "embedding_dim = 16\n",
    "units = 256\n",
    "\n",
    "model = tf.keras.Sequential([\n",
    "    L.Embedding(vocab_size, embedding_dim, input_length=X.shape[1]),\n",
    "    L.Bidirectional(L.LSTM(units,return_sequences=True)),\n",
    "    L.GlobalMaxPool1D(),\n",
    "    L.Dropout(0.4),\n",
    "    L.Dense(64, activation=\"relu\"),\n",
    "    L.Dropout(0.4),\n",
    "    L.Dense(5)\n",
    "])\n",
    "\n",
    "model.compile(loss=SparseCategoricalCrossentropy(from_logits=True),\n",
    "              optimizer='adam',metrics=['accuracy']\n",
    "             )\n",
    "model.summary()\n",
    "\n",
    "history = model.fit(X, y, epochs=EPOCHS, validation_split=0.12, batch_size=BATCH_SIZE)"
   ]
  },
  {
   "cell_type": "code",
   "execution_count": 146,
   "id": "hawaiian-melbourne",
   "metadata": {},
   "outputs": [
    {
     "name": "stdout",
     "output_type": "stream",
     "text": [
      "WARNING:tensorflow:Model was constructed with shape (None, 54) for input KerasTensor(type_spec=TensorSpec(shape=(None, 54), dtype=tf.float32, name='embedding_input'), name='embedding_input', description=\"created by layer 'embedding_input'\"), but it was called on an input with incompatible shape (None, 48).\n"
     ]
    }
   ],
   "source": [
    "X_test = test['OriginalTweet'].copy()\n",
    "y_test = test['Sentiment'].copy()\n",
    "X_test = X_test.apply(data_cleaner)\n",
    "X_test = tokenizer.texts_to_sequences(X_test)\n",
    "X_test = pad_sequences(X_test, padding='post')\n",
    "y_test.replace(encoding, inplace=True)\n",
    "pred_1 = model.predict_classes(X_test)"
   ]
  },
  {
   "cell_type": "code",
   "execution_count": 149,
   "id": "adjacent-bangkok",
   "metadata": {},
   "outputs": [
    {
     "name": "stdout",
     "output_type": "stream",
     "text": [
      "Test loss: 0.7092971205711365\n",
      "Test Accuracy: 0.7509215474128723\n",
      "                    precision    recall  f1-score   support\n",
      "\n",
      "Extremely Negative       0.80      0.67      0.73       592\n",
      "          Negative       0.68      0.75      0.71      1041\n",
      "           Neutral       0.88      0.82      0.85       619\n",
      "          Positive       0.69      0.77      0.73       947\n",
      "Extremely Positive       0.84      0.73      0.78       599\n",
      "\n",
      "          accuracy                           0.75      3798\n",
      "         macro avg       0.78      0.75      0.76      3798\n",
      "      weighted avg       0.76      0.75      0.75      3798\n",
      "\n",
      "Macro-f1 score:0.7606459329295701\n",
      "Micro-f1 score:0.7509215376513955\n"
     ]
    }
   ],
   "source": [
    "loss, acc = model.evaluate(X_test,y_test,verbose=0)\n",
    "print('Test loss: {}'.format(loss))\n",
    "print('Test Accuracy: {}'.format(acc))\n",
    "print(classification_report(y_test, pred_1, target_names=labels))\n",
    "print('Macro-f1 score:' + str(f1_score(y_test, pred_1, average='macro')))\n",
    "print('Micro-f1 score:' + str(f1_score(y_test, pred_1, average='micro')))\n"
   ]
  },
  {
   "cell_type": "markdown",
   "id": "aquatic-sword",
   "metadata": {},
   "source": [
    "### 5. Model Comparison"
   ]
  },
  {
   "cell_type": "markdown",
   "id": "exclusive-merit",
   "metadata": {},
   "source": [
    "We evaluated the model performance based on accuracy rate, macro F1-score, and micro F1-score. The neural network performed the best on both the five-label model and three-label model with accuracy rates of 0.75 and 0.85. The TF-IDF embedding method brought the greatest performance for the logistic regression, 0.63 accuracy rate for the five-label model and 0.8 accuracy rate for the three-label model. The logistic regression for the Word2Vec and GloVe models had similar performances within each of the five-label and three-label models. \n",
    "\n",
    "Overall, we can see an increase in accuracy rate and F1-score when we moved from the five-label model to the three-label model. It is reasonable since the models would not need to distinguish between extremely negative tweets and negative tweets as well as extremely positive tweets and positive tweets."
   ]
  },
  {
   "cell_type": "markdown",
   "id": "skilled-amazon",
   "metadata": {},
   "source": [
    "### 6. Sentiment trend"
   ]
  },
  {
   "cell_type": "code",
   "execution_count": 96,
   "id": "declared-amber",
   "metadata": {},
   "outputs": [
    {
     "data": {
      "text/html": [
       "<div>\n",
       "<style scoped>\n",
       "    .dataframe tbody tr th:only-of-type {\n",
       "        vertical-align: middle;\n",
       "    }\n",
       "\n",
       "    .dataframe tbody tr th {\n",
       "        vertical-align: top;\n",
       "    }\n",
       "\n",
       "    .dataframe thead th {\n",
       "        text-align: right;\n",
       "    }\n",
       "</style>\n",
       "<table border=\"1\" class=\"dataframe\">\n",
       "  <thead>\n",
       "    <tr style=\"text-align: right;\">\n",
       "      <th></th>\n",
       "      <th>Sentiment</th>\n",
       "    </tr>\n",
       "    <tr>\n",
       "      <th>Location</th>\n",
       "      <th></th>\n",
       "    </tr>\n",
       "  </thead>\n",
       "  <tbody>\n",
       "    <tr>\n",
       "      <th>London, England</th>\n",
       "      <td>1266</td>\n",
       "    </tr>\n",
       "    <tr>\n",
       "      <th>CA</th>\n",
       "      <td>1114</td>\n",
       "    </tr>\n",
       "    <tr>\n",
       "      <th>NY</th>\n",
       "      <td>1058</td>\n",
       "    </tr>\n",
       "    <tr>\n",
       "      <th>United States</th>\n",
       "      <td>860</td>\n",
       "    </tr>\n",
       "    <tr>\n",
       "      <th>United Kingdom</th>\n",
       "      <td>802</td>\n",
       "    </tr>\n",
       "    <tr>\n",
       "      <th>DC</th>\n",
       "      <td>538</td>\n",
       "    </tr>\n",
       "    <tr>\n",
       "      <th>India</th>\n",
       "      <td>283</td>\n",
       "    </tr>\n",
       "    <tr>\n",
       "      <th>Global</th>\n",
       "      <td>271</td>\n",
       "    </tr>\n",
       "    <tr>\n",
       "      <th>Australia</th>\n",
       "      <td>236</td>\n",
       "    </tr>\n",
       "    <tr>\n",
       "      <th>Canada</th>\n",
       "      <td>220</td>\n",
       "    </tr>\n",
       "  </tbody>\n",
       "</table>\n",
       "</div>"
      ],
      "text/plain": [
       "                 Sentiment\n",
       "Location                  \n",
       "London, England       1266\n",
       "CA                    1114\n",
       "NY                    1058\n",
       "United States          860\n",
       "United Kingdom         802\n",
       "DC                     538\n",
       "India                  283\n",
       "Global                 271\n",
       "Australia              236\n",
       "Canada                 220"
      ]
     },
     "execution_count": 96,
     "metadata": {},
     "output_type": "execute_result"
    }
   ],
   "source": [
    "df_all = pd.concat([train,test])\n",
    "df_all = df_all.replace({'Location':{'USA':'United States', \n",
    "                                     'New York, USA':'NY', \n",
    "                                     'London':'London, England', \n",
    "                                     'UK':'United Kingdom', \n",
    "                                     'England, United Kingdom':'United Kingdom', \n",
    "                                     'London, UK':'London, England', \n",
    "                                     'New York':'NY', \n",
    "                                     'New York City':'NY', \n",
    "                                     'Los Angeles':'CA', \n",
    "                                     'Los Angeles, CA':'CA',\n",
    "                                     'Worldwide':'Global', \n",
    "                                     'Washington, D.C.':'DC', \n",
    "                                     'NYC':'NY', \n",
    "                                     'Brooklyn, NY':'NY', \n",
    "                                     'New York, NY': 'NY', \n",
    "                                     'Washington, DC':'DC', \n",
    "                                     'San Francisco, CA':'CA',\n",
    "                                     'California, USA':'CA', \n",
    "                                     'San Diego, CA':'CA', \n",
    "                                     'California':'CA', \n",
    "                                     'Sacramento, CA':'CA', \n",
    "                                     'San Francisco':'CA', \n",
    "                                     'San Jose, CA': 'CA', \n",
    "                                     'Oakland, CA':'CA', \n",
    "                                     'Manhattan, NY':'NY', \n",
    "                                     'Washington DC':'DC', \n",
    "                                     'Bronx, NY':'NY', \n",
    "                                     'San Francisco Bay Area':'CA', \n",
    "                                     'London, United Kingdom':'London, England', \n",
    "                                     'Rochester, NY':'NY', \n",
    "                                     'Berkeley, CA':'CA', \n",
    "                                     'Queens, NY':'NY', \n",
    "                                     'New York, New York':'NY', \n",
    "                                     'US':'United States', \n",
    "                                     'Long Beach, CA':'CA', \n",
    "                                     'Santa Barbara, CA':'CA', \n",
    "                                     'City of London, London':'London, England'}})\n",
    "df_all.groupby('Location')[['Sentiment']].count().sort_values(by='Sentiment',ascending = False).head(10)"
   ]
  },
  {
   "cell_type": "code",
   "execution_count": 99,
   "id": "existing-pharmaceutical",
   "metadata": {},
   "outputs": [
    {
     "data": {
      "text/html": [
       "<div>\n",
       "<style scoped>\n",
       "    .dataframe tbody tr th:only-of-type {\n",
       "        vertical-align: middle;\n",
       "    }\n",
       "\n",
       "    .dataframe tbody tr th {\n",
       "        vertical-align: top;\n",
       "    }\n",
       "\n",
       "    .dataframe thead th {\n",
       "        text-align: right;\n",
       "    }\n",
       "</style>\n",
       "<table border=\"1\" class=\"dataframe\">\n",
       "  <thead>\n",
       "    <tr style=\"text-align: right;\">\n",
       "      <th></th>\n",
       "      <th>UserName</th>\n",
       "      <th>ScreenName</th>\n",
       "      <th>Location</th>\n",
       "      <th>TweetAt</th>\n",
       "      <th>OriginalTweet</th>\n",
       "      <th>Sentiment</th>\n",
       "    </tr>\n",
       "  </thead>\n",
       "  <tbody>\n",
       "    <tr>\n",
       "      <th>0</th>\n",
       "      <td>3799</td>\n",
       "      <td>48751</td>\n",
       "      <td>London, England</td>\n",
       "      <td>16-03-2020</td>\n",
       "      <td>@MeNyrbie @Phil_Gahan @Chrisitv https://t.co/i...</td>\n",
       "      <td>Neutral</td>\n",
       "    </tr>\n",
       "    <tr>\n",
       "      <th>25</th>\n",
       "      <td>3824</td>\n",
       "      <td>48776</td>\n",
       "      <td>London, England</td>\n",
       "      <td>16-03-2020</td>\n",
       "      <td>UK #consumer poll indicates the majority expec...</td>\n",
       "      <td>Extremely Positive</td>\n",
       "    </tr>\n",
       "    <tr>\n",
       "      <th>28</th>\n",
       "      <td>3827</td>\n",
       "      <td>48779</td>\n",
       "      <td>NY</td>\n",
       "      <td>16-03-2020</td>\n",
       "      <td>Do you see malicious price increases in NYC? T...</td>\n",
       "      <td>Negative</td>\n",
       "    </tr>\n",
       "    <tr>\n",
       "      <th>34</th>\n",
       "      <td>3833</td>\n",
       "      <td>48785</td>\n",
       "      <td>London, England</td>\n",
       "      <td>16-03-2020</td>\n",
       "      <td>We're sorry to say that our @FinFabUK event is...</td>\n",
       "      <td>Negative</td>\n",
       "    </tr>\n",
       "    <tr>\n",
       "      <th>67</th>\n",
       "      <td>3866</td>\n",
       "      <td>48818</td>\n",
       "      <td>London, England</td>\n",
       "      <td>16-03-2020</td>\n",
       "      <td>@BobJLowe Sadly those are the misinformed thin...</td>\n",
       "      <td>Negative</td>\n",
       "    </tr>\n",
       "    <tr>\n",
       "      <th>...</th>\n",
       "      <td>...</td>\n",
       "      <td>...</td>\n",
       "      <td>...</td>\n",
       "      <td>...</td>\n",
       "      <td>...</td>\n",
       "      <td>...</td>\n",
       "    </tr>\n",
       "    <tr>\n",
       "      <th>3750</th>\n",
       "      <td>3751</td>\n",
       "      <td>48703</td>\n",
       "      <td>CA</td>\n",
       "      <td>16-03-2020</td>\n",
       "      <td>Latest list of #retailers temporarily closing ...</td>\n",
       "      <td>Neutral</td>\n",
       "    </tr>\n",
       "    <tr>\n",
       "      <th>3755</th>\n",
       "      <td>3756</td>\n",
       "      <td>48708</td>\n",
       "      <td>NY</td>\n",
       "      <td>16-03-2020</td>\n",
       "      <td>Yes your money is covered in germs No isn t ma...</td>\n",
       "      <td>Neutral</td>\n",
       "    </tr>\n",
       "    <tr>\n",
       "      <th>3759</th>\n",
       "      <td>3760</td>\n",
       "      <td>48712</td>\n",
       "      <td>CA</td>\n",
       "      <td>16-03-2020</td>\n",
       "      <td>?@NYSE? + ?@Nasdaq? Need to Be Temporarily Clo...</td>\n",
       "      <td>Negative</td>\n",
       "    </tr>\n",
       "    <tr>\n",
       "      <th>3764</th>\n",
       "      <td>3765</td>\n",
       "      <td>48717</td>\n",
       "      <td>CA</td>\n",
       "      <td>16-03-2020</td>\n",
       "      <td>No toilet paper at Trader Joe's; employee said...</td>\n",
       "      <td>Positive</td>\n",
       "    </tr>\n",
       "    <tr>\n",
       "      <th>3789</th>\n",
       "      <td>3790</td>\n",
       "      <td>48742</td>\n",
       "      <td>CA</td>\n",
       "      <td>16-03-2020</td>\n",
       "      <td>@calebmealer @thebradfordfile @realDonaldTrump...</td>\n",
       "      <td>Extremely Positive</td>\n",
       "    </tr>\n",
       "  </tbody>\n",
       "</table>\n",
       "<p>3438 rows × 6 columns</p>\n",
       "</div>"
      ],
      "text/plain": [
       "      UserName  ScreenName         Location     TweetAt  \\\n",
       "0         3799       48751  London, England  16-03-2020   \n",
       "25        3824       48776  London, England  16-03-2020   \n",
       "28        3827       48779               NY  16-03-2020   \n",
       "34        3833       48785  London, England  16-03-2020   \n",
       "67        3866       48818  London, England  16-03-2020   \n",
       "...        ...         ...              ...         ...   \n",
       "3750      3751       48703               CA  16-03-2020   \n",
       "3755      3756       48708               NY  16-03-2020   \n",
       "3759      3760       48712               CA  16-03-2020   \n",
       "3764      3765       48717               CA  16-03-2020   \n",
       "3789      3790       48742               CA  16-03-2020   \n",
       "\n",
       "                                          OriginalTweet           Sentiment  \n",
       "0     @MeNyrbie @Phil_Gahan @Chrisitv https://t.co/i...             Neutral  \n",
       "25    UK #consumer poll indicates the majority expec...  Extremely Positive  \n",
       "28    Do you see malicious price increases in NYC? T...            Negative  \n",
       "34    We're sorry to say that our @FinFabUK event is...            Negative  \n",
       "67    @BobJLowe Sadly those are the misinformed thin...            Negative  \n",
       "...                                                 ...                 ...  \n",
       "3750  Latest list of #retailers temporarily closing ...             Neutral  \n",
       "3755  Yes your money is covered in germs No isn t ma...             Neutral  \n",
       "3759  ?@NYSE? + ?@Nasdaq? Need to Be Temporarily Clo...            Negative  \n",
       "3764  No toilet paper at Trader Joe's; employee said...            Positive  \n",
       "3789  @calebmealer @thebradfordfile @realDonaldTrump...  Extremely Positive  \n",
       "\n",
       "[3438 rows x 6 columns]"
      ]
     },
     "execution_count": 99,
     "metadata": {},
     "output_type": "execute_result"
    }
   ],
   "source": [
    "location_data = df_all[(df_all.Location == 'London, England')|(df_all.Location == 'CA')| (df_all.Location == 'NY')]\n",
    "location_data"
   ]
  },
  {
   "cell_type": "code",
   "execution_count": 101,
   "id": "boolean-kuwait",
   "metadata": {},
   "outputs": [
    {
     "data": {
      "text/plain": [
       "array(['Neutral', 'Extremely Positive', 'Negative', 'Positive',\n",
       "       'Extremely Negative'], dtype=object)"
      ]
     },
     "execution_count": 101,
     "metadata": {},
     "output_type": "execute_result"
    }
   ],
   "source": [
    "location_data.Sentiment.unique()"
   ]
  },
  {
   "cell_type": "code",
   "execution_count": 112,
   "id": "phantom-cancellation",
   "metadata": {},
   "outputs": [
    {
     "data": {
      "text/html": [
       "<div>\n",
       "<style scoped>\n",
       "    .dataframe tbody tr th:only-of-type {\n",
       "        vertical-align: middle;\n",
       "    }\n",
       "\n",
       "    .dataframe tbody tr th {\n",
       "        vertical-align: top;\n",
       "    }\n",
       "\n",
       "    .dataframe thead th {\n",
       "        text-align: right;\n",
       "    }\n",
       "</style>\n",
       "<table border=\"1\" class=\"dataframe\">\n",
       "  <thead>\n",
       "    <tr style=\"text-align: right;\">\n",
       "      <th></th>\n",
       "      <th>Location</th>\n",
       "      <th>TweetAt</th>\n",
       "      <th>Sentiment</th>\n",
       "      <th>TweetCount</th>\n",
       "    </tr>\n",
       "  </thead>\n",
       "  <tbody>\n",
       "    <tr>\n",
       "      <th>4</th>\n",
       "      <td>CA</td>\n",
       "      <td>2020-02-04</td>\n",
       "      <td>Extremely Negative</td>\n",
       "      <td>1</td>\n",
       "    </tr>\n",
       "    <tr>\n",
       "      <th>10</th>\n",
       "      <td>CA</td>\n",
       "      <td>2020-03-04</td>\n",
       "      <td>Extremely Negative</td>\n",
       "      <td>1</td>\n",
       "    </tr>\n",
       "    <tr>\n",
       "      <th>15</th>\n",
       "      <td>CA</td>\n",
       "      <td>2020-03-13</td>\n",
       "      <td>Extremely Negative</td>\n",
       "      <td>4</td>\n",
       "    </tr>\n",
       "    <tr>\n",
       "      <th>20</th>\n",
       "      <td>CA</td>\n",
       "      <td>2020-03-14</td>\n",
       "      <td>Extremely Negative</td>\n",
       "      <td>5</td>\n",
       "    </tr>\n",
       "    <tr>\n",
       "      <th>25</th>\n",
       "      <td>CA</td>\n",
       "      <td>2020-03-15</td>\n",
       "      <td>Extremely Negative</td>\n",
       "      <td>4</td>\n",
       "    </tr>\n",
       "    <tr>\n",
       "      <th>...</th>\n",
       "      <td>...</td>\n",
       "      <td>...</td>\n",
       "      <td>...</td>\n",
       "      <td>...</td>\n",
       "    </tr>\n",
       "    <tr>\n",
       "      <th>454</th>\n",
       "      <td>NY</td>\n",
       "      <td>2020-09-04</td>\n",
       "      <td>Extremely Negative</td>\n",
       "      <td>6</td>\n",
       "    </tr>\n",
       "    <tr>\n",
       "      <th>460</th>\n",
       "      <td>NY</td>\n",
       "      <td>2020-10-04</td>\n",
       "      <td>Extremely Negative</td>\n",
       "      <td>6</td>\n",
       "    </tr>\n",
       "    <tr>\n",
       "      <th>465</th>\n",
       "      <td>NY</td>\n",
       "      <td>2020-11-03</td>\n",
       "      <td>Extremely Negative</td>\n",
       "      <td>1</td>\n",
       "    </tr>\n",
       "    <tr>\n",
       "      <th>468</th>\n",
       "      <td>NY</td>\n",
       "      <td>2020-11-04</td>\n",
       "      <td>Extremely Negative</td>\n",
       "      <td>2</td>\n",
       "    </tr>\n",
       "    <tr>\n",
       "      <th>473</th>\n",
       "      <td>NY</td>\n",
       "      <td>2020-12-03</td>\n",
       "      <td>Extremely Negative</td>\n",
       "      <td>2</td>\n",
       "    </tr>\n",
       "  </tbody>\n",
       "</table>\n",
       "<p>90 rows × 4 columns</p>\n",
       "</div>"
      ],
      "text/plain": [
       "    Location    TweetAt           Sentiment  TweetCount\n",
       "4         CA 2020-02-04  Extremely Negative           1\n",
       "10        CA 2020-03-04  Extremely Negative           1\n",
       "15        CA 2020-03-13  Extremely Negative           4\n",
       "20        CA 2020-03-14  Extremely Negative           5\n",
       "25        CA 2020-03-15  Extremely Negative           4\n",
       "..       ...        ...                 ...         ...\n",
       "454       NY 2020-09-04  Extremely Negative           6\n",
       "460       NY 2020-10-04  Extremely Negative           6\n",
       "465       NY 2020-11-03  Extremely Negative           1\n",
       "468       NY 2020-11-04  Extremely Negative           2\n",
       "473       NY 2020-12-03  Extremely Negative           2\n",
       "\n",
       "[90 rows x 4 columns]"
      ]
     },
     "execution_count": 112,
     "metadata": {},
     "output_type": "execute_result"
    }
   ],
   "source": [
    "location_data['TweetAt'] = pd.to_datetime(location_data['TweetAt'])\n",
    "sort_loc = location_data.groupby(['Location','TweetAt', 'Sentiment'])['UserName'].count().reset_index().rename(columns={'UserName':'TweetCount'})\n",
    "neg = sort_loc[sort_loc['Sentiment'] == 'Extremely Negative']\n",
    "neg"
   ]
  },
  {
   "cell_type": "code",
   "execution_count": 121,
   "id": "substantial-kansas",
   "metadata": {},
   "outputs": [
    {
     "data": {
      "image/png": "[encoded data removed]",
      "text/plain": [
       "<Figure size 600x400 with 1 Axes>"
      ]
     },
     "metadata": {},
     "output_type": "display_data"
    }
   ],
   "source": [
    "import seaborn as sns\n",
    "import matplotlib.pyplot as plt\n",
    "\n",
    "sns.lineplot(y='TweetCount', x='TweetAt',hue='Location', data=neg).set_title('Extremely Negative Tweets')\n",
    "plt.show()"
   ]
  },
  {
   "cell_type": "code",
   "execution_count": 123,
   "id": "demographic-formula",
   "metadata": {},
   "outputs": [
    {
     "data": {
      "text/html": [
       "<div>\n",
       "<style scoped>\n",
       "    .dataframe tbody tr th:only-of-type {\n",
       "        vertical-align: middle;\n",
       "    }\n",
       "\n",
       "    .dataframe tbody tr th {\n",
       "        vertical-align: top;\n",
       "    }\n",
       "\n",
       "    .dataframe thead th {\n",
       "        text-align: right;\n",
       "    }\n",
       "</style>\n",
       "<table border=\"1\" class=\"dataframe\">\n",
       "  <thead>\n",
       "    <tr style=\"text-align: right;\">\n",
       "      <th></th>\n",
       "      <th>Location</th>\n",
       "      <th>TweetAt</th>\n",
       "      <th>Sentiment</th>\n",
       "      <th>TweetCount</th>\n",
       "    </tr>\n",
       "  </thead>\n",
       "  <tbody>\n",
       "    <tr>\n",
       "      <th>0</th>\n",
       "      <td>CA</td>\n",
       "      <td>2020-01-04</td>\n",
       "      <td>Extremely Positive</td>\n",
       "      <td>3</td>\n",
       "    </tr>\n",
       "    <tr>\n",
       "      <th>5</th>\n",
       "      <td>CA</td>\n",
       "      <td>2020-02-04</td>\n",
       "      <td>Extremely Positive</td>\n",
       "      <td>3</td>\n",
       "    </tr>\n",
       "    <tr>\n",
       "      <th>11</th>\n",
       "      <td>CA</td>\n",
       "      <td>2020-03-04</td>\n",
       "      <td>Extremely Positive</td>\n",
       "      <td>3</td>\n",
       "    </tr>\n",
       "    <tr>\n",
       "      <th>16</th>\n",
       "      <td>CA</td>\n",
       "      <td>2020-03-13</td>\n",
       "      <td>Extremely Positive</td>\n",
       "      <td>1</td>\n",
       "    </tr>\n",
       "    <tr>\n",
       "      <th>21</th>\n",
       "      <td>CA</td>\n",
       "      <td>2020-03-14</td>\n",
       "      <td>Extremely Positive</td>\n",
       "      <td>6</td>\n",
       "    </tr>\n",
       "    <tr>\n",
       "      <th>...</th>\n",
       "      <td>...</td>\n",
       "      <td>...</td>\n",
       "      <td>...</td>\n",
       "      <td>...</td>\n",
       "    </tr>\n",
       "    <tr>\n",
       "      <th>461</th>\n",
       "      <td>NY</td>\n",
       "      <td>2020-10-04</td>\n",
       "      <td>Extremely Positive</td>\n",
       "      <td>6</td>\n",
       "    </tr>\n",
       "    <tr>\n",
       "      <th>466</th>\n",
       "      <td>NY</td>\n",
       "      <td>2020-11-03</td>\n",
       "      <td>Extremely Positive</td>\n",
       "      <td>1</td>\n",
       "    </tr>\n",
       "    <tr>\n",
       "      <th>469</th>\n",
       "      <td>NY</td>\n",
       "      <td>2020-11-04</td>\n",
       "      <td>Extremely Positive</td>\n",
       "      <td>1</td>\n",
       "    </tr>\n",
       "    <tr>\n",
       "      <th>474</th>\n",
       "      <td>NY</td>\n",
       "      <td>2020-12-03</td>\n",
       "      <td>Extremely Positive</td>\n",
       "      <td>2</td>\n",
       "    </tr>\n",
       "    <tr>\n",
       "      <th>478</th>\n",
       "      <td>NY</td>\n",
       "      <td>2020-12-04</td>\n",
       "      <td>Extremely Positive</td>\n",
       "      <td>10</td>\n",
       "    </tr>\n",
       "  </tbody>\n",
       "</table>\n",
       "<p>95 rows × 4 columns</p>\n",
       "</div>"
      ],
      "text/plain": [
       "    Location    TweetAt           Sentiment  TweetCount\n",
       "0         CA 2020-01-04  Extremely Positive           3\n",
       "5         CA 2020-02-04  Extremely Positive           3\n",
       "11        CA 2020-03-04  Extremely Positive           3\n",
       "16        CA 2020-03-13  Extremely Positive           1\n",
       "21        CA 2020-03-14  Extremely Positive           6\n",
       "..       ...        ...                 ...         ...\n",
       "461       NY 2020-10-04  Extremely Positive           6\n",
       "466       NY 2020-11-03  Extremely Positive           1\n",
       "469       NY 2020-11-04  Extremely Positive           1\n",
       "474       NY 2020-12-03  Extremely Positive           2\n",
       "478       NY 2020-12-04  Extremely Positive          10\n",
       "\n",
       "[95 rows x 4 columns]"
      ]
     },
     "execution_count": 123,
     "metadata": {},
     "output_type": "execute_result"
    }
   ],
   "source": [
    "pos = sort_loc[sort_loc['Sentiment'] == 'Extremely Positive']\n",
    "pos"
   ]
  },
  {
   "cell_type": "code",
   "execution_count": 124,
   "id": "separated-commonwealth",
   "metadata": {},
   "outputs": [
    {
     "data": {
      "image/png": "[encoded data removed]",
      "text/plain": [
       "<Figure size 600x400 with 1 Axes>"
      ]
     },
     "metadata": {},
     "output_type": "display_data"
    }
   ],
   "source": [
    "sns.lineplot(y='TweetCount', x='TweetAt',hue='Location', data=pos).set_title('Extremely Positive Tweets')\n",
    "plt.show()"
   ]
  },
  {
   "cell_type": "code",
   "execution_count": 125,
   "id": "driving-giving",
   "metadata": {},
   "outputs": [
    {
     "data": {
      "text/plain": [
       "Text(0.5, 1.0, 'Sentiment Analysis During Covid-19')"
      ]
     },
     "execution_count": 125,
     "metadata": {},
     "output_type": "execute_result"
    },
    {
     "data": {
      "image/png": "[encoded data removed]",
      "text/plain": [
       "<Figure size 600x400 with 1 Axes>"
      ]
     },
     "metadata": {},
     "output_type": "display_data"
    }
   ],
   "source": [
    "sns.lineplot(y='TweetCount', x='TweetAt',hue='Sentiment', data=sort_loc, ci=None).set_title('Sentiment Analysis During Covid-19')"
   ]
  },
  {
   "cell_type": "code",
   "execution_count": 226,
   "id": "severe-optics",
   "metadata": {},
   "outputs": [],
   "source": [
    "test['pred_nn'] = pred_1\n",
    "test['pred_3'] = pred\n",
    "test['sentiment_number'] = y_test\n",
    "encoding = {0:'Extremely Negative',\n",
    "            1:'Negative',\n",
    "            2:'Neutral',\n",
    "            3:'Positive',\n",
    "            4:'Extremely Positive'\n",
    "           }\n",
    "\n",
    "encoding_3 = {0:'Negative',\n",
    "            1:'Neutral',\n",
    "            2:'Positive'\n",
    "           }\n",
    "\n",
    "encoding_back = {'Extremely Negative':'Negative',\n",
    "                 'Extremely Positive':'Positive'\n",
    "           }\n",
    "test['sentiment_pred_5'] = test[['pred_nn']].replace(encoding)['pred_nn']\n",
    "test['sentiment_pred_3'] = test[['pred_3']].replace(encoding_3)['pred_3']\n",
    "test['sentiment_3'] = test[['Sentiment']].replace(encoding_back)['Sentiment']\n"
   ]
  },
  {
   "cell_type": "code",
   "execution_count": 227,
   "id": "meaningful-curve",
   "metadata": {},
   "outputs": [
    {
     "data": {
      "text/html": [
       "<div>\n",
       "<style scoped>\n",
       "    .dataframe tbody tr th:only-of-type {\n",
       "        vertical-align: middle;\n",
       "    }\n",
       "\n",
       "    .dataframe tbody tr th {\n",
       "        vertical-align: top;\n",
       "    }\n",
       "\n",
       "    .dataframe thead th {\n",
       "        text-align: right;\n",
       "    }\n",
       "</style>\n",
       "<table border=\"1\" class=\"dataframe\">\n",
       "  <thead>\n",
       "    <tr style=\"text-align: right;\">\n",
       "      <th></th>\n",
       "      <th>Sentiment</th>\n",
       "    </tr>\n",
       "    <tr>\n",
       "      <th>Location</th>\n",
       "      <th></th>\n",
       "    </tr>\n",
       "  </thead>\n",
       "  <tbody>\n",
       "    <tr>\n",
       "      <th>CA</th>\n",
       "      <td>121</td>\n",
       "    </tr>\n",
       "    <tr>\n",
       "      <th>NY</th>\n",
       "      <td>99</td>\n",
       "    </tr>\n",
       "    <tr>\n",
       "      <th>United States</th>\n",
       "      <td>97</td>\n",
       "    </tr>\n",
       "    <tr>\n",
       "      <th>London, England</th>\n",
       "      <td>81</td>\n",
       "    </tr>\n",
       "    <tr>\n",
       "      <th>DC</th>\n",
       "      <td>53</td>\n",
       "    </tr>\n",
       "    <tr>\n",
       "      <th>United Kingdom</th>\n",
       "      <td>42</td>\n",
       "    </tr>\n",
       "    <tr>\n",
       "      <th>Canada</th>\n",
       "      <td>29</td>\n",
       "    </tr>\n",
       "    <tr>\n",
       "      <th>Toronto, Ontario</th>\n",
       "      <td>29</td>\n",
       "    </tr>\n",
       "    <tr>\n",
       "      <th>Toronto</th>\n",
       "      <td>21</td>\n",
       "    </tr>\n",
       "    <tr>\n",
       "      <th>Atlanta, GA</th>\n",
       "      <td>19</td>\n",
       "    </tr>\n",
       "  </tbody>\n",
       "</table>\n",
       "</div>"
      ],
      "text/plain": [
       "                  Sentiment\n",
       "Location                   \n",
       "CA                      121\n",
       "NY                       99\n",
       "United States            97\n",
       "London, England          81\n",
       "DC                       53\n",
       "United Kingdom           42\n",
       "Canada                   29\n",
       "Toronto, Ontario         29\n",
       "Toronto                  21\n",
       "Atlanta, GA              19"
      ]
     },
     "execution_count": 227,
     "metadata": {},
     "output_type": "execute_result"
    }
   ],
   "source": [
    "test = test.replace({'Location':{'USA':'United States', \n",
    "                                     'New York, USA':'NY', \n",
    "                                     'London':'London, England', \n",
    "                                     'UK':'United Kingdom', \n",
    "                                     'England, United Kingdom':'United Kingdom', \n",
    "                                     'London, UK':'London, England', \n",
    "                                     'New York':'NY', \n",
    "                                     'New York City':'NY', \n",
    "                                     'Los Angeles':'CA', \n",
    "                                     'Los Angeles, CA':'CA',\n",
    "                                     'Worldwide':'Global', \n",
    "                                     'Washington, D.C.':'DC', \n",
    "                                     'NYC':'NY', \n",
    "                                     'Brooklyn, NY':'NY', \n",
    "                                     'New York, NY': 'NY', \n",
    "                                     'Washington, DC':'DC', \n",
    "                                     'San Francisco, CA':'CA',\n",
    "                                     'California, USA':'CA', \n",
    "                                     'San Diego, CA':'CA', \n",
    "                                     'California':'CA', \n",
    "                                     'Sacramento, CA':'CA', \n",
    "                                     'San Francisco':'CA', \n",
    "                                     'San Jose, CA': 'CA', \n",
    "                                     'Oakland, CA':'CA', \n",
    "                                     'Manhattan, NY':'NY', \n",
    "                                     'Washington DC':'DC', \n",
    "                                     'Bronx, NY':'NY', \n",
    "                                     'San Francisco Bay Area':'CA', \n",
    "                                     'London, United Kingdom':'London, England', \n",
    "                                     'Rochester, NY':'NY', \n",
    "                                     'Berkeley, CA':'CA', \n",
    "                                     'Queens, NY':'NY', \n",
    "                                     'New York, New York':'NY', \n",
    "                                     'US':'United States', \n",
    "                                     'Long Beach, CA':'CA', \n",
    "                                     'Santa Barbara, CA':'CA', \n",
    "                                     'City of London, London':'London, England'}})\n",
    "test.groupby('Location')[['Sentiment']].count().sort_values(by='Sentiment',ascending = False).head(10)"
   ]
  },
  {
   "cell_type": "code",
   "execution_count": 239,
   "id": "comfortable-interval",
   "metadata": {},
   "outputs": [],
   "source": [
    "location_data = test[(test.Location == 'London, England')|(test.Location == 'CA')| (test.Location == 'NY')]\n",
    "location_data['TweetAt'] = pd.to_datetime(location_data['TweetAt'])\n",
    "sent_test = location_data.groupby(['Location','TweetAt', 'Sentiment'])['UserName'].count().reset_index().rename(columns={'UserName':'TweetCount'})\n",
    "sent_pred = location_data.groupby(['Location','TweetAt', 'sentiment_pred_5'])['UserName'].count().reset_index().rename(columns={'UserName':'TweetCountPredict', 'sentiment_pred_5':'Sentiment_Pred'})\n",
    "sent_pred_3 = location_data.groupby(['Location','TweetAt', 'sentiment_pred_3'])['UserName'].count().reset_index().rename(columns={'UserName':'TweetCountPredict', 'sentiment_pred_3':'Sentiment_Pred'})\n",
    "sent_3 = location_data.groupby(['Location','TweetAt', 'sentiment_3'])['UserName'].count().reset_index().rename(columns={'UserName':'TweetCount', 'sentiment_3':'Sentiment'})\n",
    "\n",
    "                                                                                                                       "
   ]
  },
  {
   "cell_type": "code",
   "execution_count": 240,
   "id": "abandoned-lighting",
   "metadata": {},
   "outputs": [],
   "source": [
    "neg_1 = sent_test[sent_test['Sentiment'] == 'Extremely Negative']\n",
    "neg_pred = sent_pred[sent_pred['Sentiment_Pred'] == 'Extremely Negative']\n",
    "neg_2 = sent_3[sent_3['Sentiment'] == 'Negative']\n",
    "neg_pred_3 = sent_pred_3[sent_pred_3['Sentiment_Pred'] == 'Negative']"
   ]
  },
  {
   "cell_type": "code",
   "execution_count": 236,
   "id": "coated-major",
   "metadata": {},
   "outputs": [
    {
     "data": {
      "image/png": "[encoded data removed]",
      "text/plain": [
       "<Figure size 600x400 with 1 Axes>"
      ]
     },
     "metadata": {},
     "output_type": "display_data"
    }
   ],
   "source": [
    "#5 labels\n",
    "p = sns.lineplot(y='TweetCount', x='TweetAt', data=neg_1, ci=None, label=\"Actual Number\").set_title('Extremely Negative Tweets')\n",
    "p = sns.lineplot(y='TweetCountPredict', x='TweetAt', data=neg_pred, ci=None, label=\"Predicted Number\").set_title('Extremely Negative Tweets')\n",
    "plt.xticks(rotation=60)\n",
    "plt.show()"
   ]
  },
  {
   "cell_type": "code",
   "execution_count": 241,
   "id": "descending-closure",
   "metadata": {},
   "outputs": [
    {
     "data": {
      "image/png": "[encoded data removed]",
      "text/plain": [
       "<Figure size 600x400 with 1 Axes>"
      ]
     },
     "metadata": {},
     "output_type": "display_data"
    }
   ],
   "source": [
    "#3 labels\n",
    "p = sns.lineplot(y='TweetCount', x='TweetAt', data=neg_2, ci=None, label=\"Actual Number\").set_title('Negative Tweets')\n",
    "p = sns.lineplot(y='TweetCountPredict', x='TweetAt', data=neg_pred_3, ci=None, label=\"Predicted Number\").set_title('Negative Tweets')\n",
    "plt.xticks(rotation=60)\n",
    "plt.show()"
   ]
  },
  {
   "cell_type": "code",
   "execution_count": 242,
   "id": "visible-annotation",
   "metadata": {},
   "outputs": [],
   "source": [
    "test.to_csv('test_result.csv')"
   ]
  }
 ],
 "metadata": {
  "kernelspec": {
   "display_name": "Python 3",
   "language": "python",
   "name": "python3"
  },
  "language_info": {
   "codemirror_mode": {
    "name": "ipython",
    "version": 3
   },
   "file_extension": ".py",
   "mimetype": "text/x-python",
   "name": "python",
   "nbconvert_exporter": "python",
   "pygments_lexer": "ipython3",
   "version": "3.8.5"
  }
 },
 "nbformat": 4,
 "nbformat_minor": 5
}
